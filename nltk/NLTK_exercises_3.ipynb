{
 "metadata": {
  "name": "",
  "signature": "sha256:042eabb229e6936c5ec132cdfb03a4a02abeaf85ebc3760dfbf2d512c1658ac5"
 },
 "nbformat": 3,
 "nbformat_minor": 0,
 "worksheets": [
  {
   "cells": [
    {
     "cell_type": "heading",
     "level": 1,
     "metadata": {},
     "source": [
      "Working with raw text"
     ]
    },
    {
     "cell_type": "markdown",
     "metadata": {},
     "source": [
      "Some corpora have already been marked up for use with NLTK, but you're often going to want to work with your own texts. So how to we load them in and prepare them for use with NLTK? We're going to start by looking at some plain text (.txt) files of speeches and press releases from the Malcolm Fraser archive, held by the University of Melbourne. We'll look at some of the advantages and disadvantages of using NLTK, and problems of data wrangling. You can check out the Fraser Archive here: http://www.unimelb.edu.au/malcolmfraser/"
     ]
    },
    {
     "cell_type": "markdown",
     "metadata": {},
     "source": [
      "First of all, let's load in our text."
     ]
    },
    {
     "cell_type": "markdown",
     "metadata": {},
     "source": [
      "Via file management, open and inspect one file. What do you see? Are there any potential problems?"
     ]
    },
    {
     "cell_type": "code",
     "collapsed": false,
     "input": [
      "from __future__ import division\n",
      "import nltk, re, pprint\n",
      "from nltk import word_tokenize\n",
      "nltk.data.path.append('/home/researcher/lessons/nltk/nltk_data/')\n",
      "#import the library for reading files off a disk\n",
      "import os"
     ],
     "language": "python",
     "metadata": {},
     "outputs": [],
     "prompt_number": 1
    },
    {
     "cell_type": "markdown",
     "metadata": {},
     "source": [
      "Now, run the above import statements. You'll need these to import and process raw text."
     ]
    },
    {
     "cell_type": "markdown",
     "metadata": {},
     "source": [
      "The instructions here are slightly different from what you'll see in the book. That's because we're using Python 2.7, not Python 3. Now that we've got our texts, let's have a look at what is in the file directory."
     ]
    },
    {
     "cell_type": "code",
     "collapsed": false,
     "input": [
      "#access items in the directory 'UMA_Fraser_Radio_Talks' and view the first 3\n",
      "os.listdir('UMA_Fraser_Radio_Talks')[:3]"
     ],
     "language": "python",
     "metadata": {},
     "outputs": [
      {
       "metadata": {},
       "output_type": "pyout",
       "prompt_number": 2,
       "text": [
        "['UDS2013680-100-full.txt',\n",
        " 'UDS2013680-101-full.txt',\n",
        " 'UDS2013680-102-full.txt']"
       ]
      }
     ],
     "prompt_number": 2
    },
    {
     "cell_type": "heading",
     "level": 2,
     "metadata": {},
     "source": [
      "Revision: basic text analysis"
     ]
    },
    {
     "cell_type": "markdown",
     "metadata": {},
     "source": [
      "As revision, we'll go over some of the operations we learned last week before we get deeper into using Python to navigate the text. First we'll read in one speech and tokenize it. This means breaking it up into words for analysis"
     ]
    },
    {
     "cell_type": "code",
     "collapsed": false,
     "input": [
      "#open a file and call the content 'speech'\n",
      "speech = open('UMA_Fraser_Radio_Talks/UDS2013680-100-full.txt').read()\n",
      "#tokenize the speech and call the result 'vocab'\n",
      "vocab = word_tokenize(speech)"
     ],
     "language": "python",
     "metadata": {},
     "outputs": [],
     "prompt_number": 3
    },
    {
     "cell_type": "markdown",
     "metadata": {},
     "source": [
      "Determine the number of tokens in our speech, the number of unique tokens and pull out the longest words. What do you see?"
     ]
    },
    {
     "cell_type": "code",
     "collapsed": false,
     "input": [
      "len(vocab)"
     ],
     "language": "python",
     "metadata": {},
     "outputs": [
      {
       "metadata": {},
       "output_type": "pyout",
       "prompt_number": 4,
       "text": [
        "951"
       ]
      }
     ],
     "prompt_number": 4
    },
    {
     "cell_type": "code",
     "collapsed": false,
     "input": [
      "len(set(vocab))"
     ],
     "language": "python",
     "metadata": {},
     "outputs": [
      {
       "metadata": {},
       "output_type": "pyout",
       "prompt_number": 5,
       "text": [
        "423"
       ]
      }
     ],
     "prompt_number": 5
    },
    {
     "cell_type": "code",
     "collapsed": false,
     "input": [
      "V= set(vocab)\n",
      "long_words = [word for word in V if len(word) > 12]\n",
      "sorted(long_words)"
     ],
     "language": "python",
     "metadata": {},
     "outputs": [
      {
       "metadata": {},
       "output_type": "pyout",
       "prompt_number": 6,
       "text": [
        "['//gallery.its.unimelb.edu.au/imu/imu.php',\n",
        " 'determination',\n",
        " 'ecatalogue=on',\n",
        " 'la1s-see-iatiog',\n",
        " 'organisations']"
       ]
      }
     ],
     "prompt_number": 6
    },
    {
     "cell_type": "markdown",
     "metadata": {},
     "source": [
      "To perform more complex operations, we'll need to use a different tokenizer"
     ]
    },
    {
     "cell_type": "code",
     "collapsed": false,
     "input": [
      "from nltk.text import Text\n",
      "sent_vocab = Text(word_tokenize(speech))"
     ],
     "language": "python",
     "metadata": {},
     "outputs": [],
     "prompt_number": 7
    },
    {
     "cell_type": "code",
     "collapsed": false,
     "input": [
      "sent_vocab.collocations()"
     ],
     "language": "python",
     "metadata": {},
     "outputs": [
      {
       "output_type": "stream",
       "stream": "stdout",
       "text": [
        "New South; South Wales; Wool Selling; three major; Broking firm; State\n",
        "Government; Woolgrowing organisations; major Woolgrowing; Selling\n",
        "centre\n"
       ]
      }
     ],
     "prompt_number": 8
    },
    {
     "cell_type": "code",
     "collapsed": false,
     "input": [
      "sent_vocab.concordance(\"wool\")"
     ],
     "language": "python",
     "metadata": {},
     "outputs": [
      {
       "output_type": "stream",
       "stream": "stdout",
       "text": [
        "Displaying 5 of 5 matches:\n",
        "                                     wool sales Description : press statement \n",
        " to legislate to settle the Portland Wool Sales dispute . The field of negotia\n",
        "in New South Wales was called the `` Wool Selling Centres Protection Act . '' \n",
        " the best interests of Portland as a Wool Selling centre will be served if the\n",
        " way of Portland 's development as a Wool Selling centre . The other members o\n"
       ]
      }
     ],
     "prompt_number": 9
    },
    {
     "cell_type": "code",
     "collapsed": false,
     "input": [
      "#build a table of the 15 most common words in the text\n",
      "from nltk.probability import FreqDist\n",
      "fdist1 = FreqDist(sent_vocab)\n",
      "fdist1.tabulate(15)"
     ],
     "language": "python",
     "metadata": {},
     "outputs": [
      {
       "output_type": "stream",
       "stream": "stdout",
       "text": [
        " the    .    ,   to   of that  and   in Portland   be   is   It    a  not  The \n",
        "  53   40   36   33   28   15   13   11   11   11   10   10    9    8    8 \n"
       ]
      }
     ],
     "prompt_number": 10
    },
    {
     "cell_type": "code",
     "collapsed": false,
     "input": [
      "#and graph the results\n",
      "%matplotlib inline\n",
      "fdist1.plot(25, cumulative=True)"
     ],
     "language": "python",
     "metadata": {},
     "outputs": [
      {
       "metadata": {},
       "output_type": "display_data",
       "png": "[encoded data removed]",
       "text": [
        "<matplotlib.figure.Figure at 0x437b050>"
       ]
      }
     ],
     "prompt_number": 11
    },
    {
     "cell_type": "heading",
     "level": 2,
     "metadata": {},
     "source": [
      "Exploring further: splitting up text"
     ]
    },
    {
     "cell_type": "markdown",
     "metadata": {},
     "source": [
      "We've had a look at one file, but the real strength of NLTK is to be able to explore large bodies of text. Let's go back and have a look at the first 10 files in the directory. "
     ]
    },
    {
     "cell_type": "code",
     "collapsed": false,
     "input": [
      "#show first 10 filenames\n",
      "for filename in os.listdir('UMA_Fraser_Radio_Talks')[:10]:\n",
      "    print \"filename: %s\" % filename\n",
      "    print 'filename: UMA_Fraser_Radio_Talks/' + filename"
     ],
     "language": "python",
     "metadata": {},
     "outputs": [
      {
       "output_type": "stream",
       "stream": "stdout",
       "text": [
        "filename: UDS2013680-100-full.txt\n",
        "filename: UMA_Fraser_Radio_Talks/UDS2013680-100-full.txt\n",
        "filename: UDS2013680-101-full.txt\n",
        "filename: UMA_Fraser_Radio_Talks/UDS2013680-101-full.txt\n",
        "filename: UDS2013680-102-full.txt\n",
        "filename: UMA_Fraser_Radio_Talks/UDS2013680-102-full.txt\n",
        "filename: UDS2013680-103-full.txt\n",
        "filename: UMA_Fraser_Radio_Talks/UDS2013680-103-full.txt\n",
        "filename: UDS2013680-104-full.txt\n",
        "filename: UMA_Fraser_Radio_Talks/UDS2013680-104-full.txt\n",
        "filename: UDS2013680-105-full.txt\n",
        "filename: UMA_Fraser_Radio_Talks/UDS2013680-105-full.txt\n",
        "filename: UDS2013680-106-full.txt\n",
        "filename: UMA_Fraser_Radio_Talks/UDS2013680-106-full.txt\n",
        "filename: UDS2013680-107-full.txt\n",
        "filename: UMA_Fraser_Radio_Talks/UDS2013680-107-full.txt\n",
        "filename: UDS2013680-108-full.txt\n",
        "filename: UMA_Fraser_Radio_Talks/UDS2013680-108-full.txt\n",
        "filename: UDS2013680-109-full.txt\n",
        "filename: UMA_Fraser_Radio_Talks/UDS2013680-109-full.txt\n"
       ]
      }
     ],
     "prompt_number": 12
    },
    {
     "cell_type": "markdown",
     "metadata": {},
     "source": [
      "When we manually inspected the first file, we saw that it contained a metadata section, before the body of the text. We can ask Python to show us the start of the file. For analysing the text, it is useful to split the metadata section off, so that we can interrogate it separately but also so that it won't distort our results when we analyse the text."
     ]
    },
    {
     "cell_type": "code",
     "collapsed": false,
     "input": [
      "#view the first 100 charaters of the first file\n",
      "open('UMA_Fraser_Radio_Talks/' + os.listdir('UMA_Fraser_Radio_Talks')[0]).read()[:100]"
     ],
     "language": "python",
     "metadata": {},
     "outputs": [
      {
       "metadata": {},
       "output_type": "pyout",
       "prompt_number": 13,
       "text": [
        "'<!--start metadata-->\\r\\nTitle: Portland wool sales\\r\\nDescription: press statement\\r\\nDate: 2/04/1963\\r\\nCo'"
       ]
      }
     ],
     "prompt_number": 13
    },
    {
     "cell_type": "code",
     "collapsed": false,
     "input": [
      "#open the first file, read it into Python and split it into two items, metadata and body \n",
      "data = open('UMA_Fraser_Radio_Talks/' + os.listdir('UMA_Fraser_Radio_Talks')[0]).read().split(\"<!--end metadata-->\")"
     ],
     "language": "python",
     "metadata": {},
     "outputs": [],
     "prompt_number": 14
    },
    {
     "cell_type": "code",
     "collapsed": false,
     "input": [
      "#view the first part\n",
      "data[0]"
     ],
     "language": "python",
     "metadata": {},
     "outputs": [
      {
       "metadata": {},
       "output_type": "pyout",
       "prompt_number": 15,
       "text": [
        "'<!--start metadata-->\\r\\nTitle: Portland wool sales\\r\\nDescription: press statement\\r\\nDate: 2/04/1963\\r\\nCollection: John Malcolm Fraser, 2007.0023\\r\\nCollection URI: http://gallery.its.unimelb.edu.au/imu/imu.php?request=load&irn=115190&ecatalogue=on&view=details\\r\\nFormat: Uncorrected OCR text\\r\\n'"
       ]
      }
     ],
     "prompt_number": 15
    },
    {
     "cell_type": "markdown",
     "metadata": {},
     "source": [
      "How is the metadata broken up? What are the elements and how are they delimited?"
     ]
    },
    {
     "cell_type": "code",
     "collapsed": false,
     "input": [
      "#print the first part\n",
      "print data[0]"
     ],
     "language": "python",
     "metadata": {},
     "outputs": [
      {
       "output_type": "stream",
       "stream": "stdout",
       "text": [
        "<!--start metadata-->\r\n",
        "Title: Portland wool sales\r\n",
        "Description: press statement\r\n",
        "Date: 2/04/1963\r\n",
        "Collection: John Malcolm Fraser, 2007.0023\r\n",
        "Collection URI: http://gallery.its.unimelb.edu.au/imu/imu.php?request=load&irn=115190&ecatalogue=on&view=details\r\n",
        "Format: Uncorrected OCR text\r\n",
        "\n"
       ]
      }
     ],
     "prompt_number": 16
    },
    {
     "cell_type": "code",
     "collapsed": false,
     "input": [
      "#split the metadata component into lines on '\\r\\n', add a * to the start of each line\n",
      "for line in data[0].split('\\r\\n'):\n",
      "    print '*', line"
     ],
     "language": "python",
     "metadata": {},
     "outputs": [
      {
       "output_type": "stream",
       "stream": "stdout",
       "text": [
        "* <!--start metadata-->\n",
        "* Title: Portland wool sales\n",
        "* Description: press statement\n",
        "* Date: 2/04/1963\n",
        "* Collection: John Malcolm Fraser, 2007.0023\n",
        "* Collection URI: http://gallery.its.unimelb.edu.au/imu/imu.php?request=load&irn=115190&ecatalogue=on&view=details\n",
        "* Format: Uncorrected OCR text\n",
        "* \n"
       ]
      }
     ],
     "prompt_number": 17
    },
    {
     "cell_type": "code",
     "collapsed": false,
     "input": [
      "#get rid of the any line that starts with '<'\n",
      "for line in data[0].split('\\r\\n'):\n",
      "    if line[0] == '<':\n",
      "        continue\n",
      "    print '*', line"
     ],
     "language": "python",
     "metadata": {},
     "outputs": [
      {
       "output_type": "stream",
       "stream": "stdout",
       "text": [
        "* Title: Portland wool sales\n",
        "* Description: press statement\n",
        "* Date: 2/04/1963\n",
        "* Collection: John Malcolm Fraser, 2007.0023\n",
        "* Collection URI: http://gallery.its.unimelb.edu.au/imu/imu.php?request=load&irn=115190&ecatalogue=on&view=details\n",
        "* Format: Uncorrected OCR text\n"
       ]
      },
      {
       "ename": "IndexError",
       "evalue": "string index out of range",
       "output_type": "pyerr",
       "traceback": [
        "\u001b[1;31m---------------------------------------------------------------------------\u001b[0m\n\u001b[1;31mIndexError\u001b[0m                                Traceback (most recent call last)",
        "\u001b[1;32m<ipython-input-18-01b884de5032>\u001b[0m in \u001b[0;36m<module>\u001b[1;34m()\u001b[0m\n\u001b[0;32m      1\u001b[0m \u001b[1;31m#get rid of the any line that starts with '<'\u001b[0m\u001b[1;33m\u001b[0m\u001b[1;33m\u001b[0m\u001b[0m\n\u001b[0;32m      2\u001b[0m \u001b[1;32mfor\u001b[0m \u001b[0mline\u001b[0m \u001b[1;32min\u001b[0m \u001b[0mdata\u001b[0m\u001b[1;33m[\u001b[0m\u001b[1;36m0\u001b[0m\u001b[1;33m]\u001b[0m\u001b[1;33m.\u001b[0m\u001b[0msplit\u001b[0m\u001b[1;33m(\u001b[0m\u001b[1;34m'\\r\\n'\u001b[0m\u001b[1;33m)\u001b[0m\u001b[1;33m:\u001b[0m\u001b[1;33m\u001b[0m\u001b[0m\n\u001b[1;32m----> 3\u001b[1;33m     \u001b[1;32mif\u001b[0m \u001b[0mline\u001b[0m\u001b[1;33m[\u001b[0m\u001b[1;36m0\u001b[0m\u001b[1;33m]\u001b[0m \u001b[1;33m==\u001b[0m \u001b[1;34m'<'\u001b[0m\u001b[1;33m:\u001b[0m\u001b[1;33m\u001b[0m\u001b[0m\n\u001b[0m\u001b[0;32m      4\u001b[0m         \u001b[1;32mcontinue\u001b[0m\u001b[1;33m\u001b[0m\u001b[0m\n\u001b[0;32m      5\u001b[0m     \u001b[1;32mprint\u001b[0m \u001b[1;34m'*'\u001b[0m\u001b[1;33m,\u001b[0m \u001b[0mline\u001b[0m\u001b[1;33m\u001b[0m\u001b[0m\n",
        "\u001b[1;31mIndexError\u001b[0m: string index out of range"
       ]
      }
     ],
     "prompt_number": 18
    },
    {
     "cell_type": "code",
     "collapsed": false,
     "input": [
      "#get rid of empty lines and any line that starts with '<'\n",
      "for line in data[0].split('\\r\\n'):\n",
      "    if not line: \n",
      "        continue\n",
      "    if line[0] == '<':\n",
      "        continue\n",
      "    print '*', line"
     ],
     "language": "python",
     "metadata": {},
     "outputs": [
      {
       "output_type": "stream",
       "stream": "stdout",
       "text": [
        "* Title: Portland wool sales\n",
        "* Description: press statement\n",
        "* Date: 2/04/1963\n",
        "* Collection: John Malcolm Fraser, 2007.0023\n",
        "* Collection URI: http://gallery.its.unimelb.edu.au/imu/imu.php?request=load&irn=115190&ecatalogue=on&view=details\n",
        "* Format: Uncorrected OCR text\n"
       ]
      }
     ],
     "prompt_number": 19
    },
    {
     "cell_type": "code",
     "collapsed": false,
     "input": [
      "#split the metadata items on ':' so that we can interrogate each one\n",
      "for line in data[0].split('\\r\\n'):\n",
      "    if not line: \n",
      "        continue\n",
      "    if line[0] == '<':\n",
      "        continue\n",
      "    element = line.split(':') \n",
      "    print '*', element"
     ],
     "language": "python",
     "metadata": {},
     "outputs": [
      {
       "output_type": "stream",
       "stream": "stdout",
       "text": [
        "* ['Title', ' Portland wool sales']\n",
        "* ['Description', ' press statement']\n",
        "* ['Date', ' 2/04/1963']\n",
        "* ['Collection', ' John Malcolm Fraser, 2007.0023']\n",
        "* ['Collection URI', ' http', '//gallery.its.unimelb.edu.au/imu/imu.php?request=load&irn=115190&ecatalogue=on&view=details']\n",
        "* ['Format', ' Uncorrected OCR text']\n"
       ]
      }
     ],
     "prompt_number": 20
    },
    {
     "cell_type": "markdown",
     "metadata": {},
     "source": [
      "Type:        method_descriptor\n",
      "String form: <method 'split' of 'str' objects>\n",
      "Namespace:   Python builtin\n",
      "Docstring:\n",
      "S.split([sep [,maxsplit]]) -> list of strings\n",
      "\n",
      "Return a list of the words in the string S, using sep as the\n",
      "delimiter string.  If maxsplit is given, at most maxsplit\n",
      "splits are done. If sep is not specified or is None, any\n",
      "whitespace string is a separator and empty strings are removed\n",
      "from the result."
     ]
    },
    {
     "cell_type": "code",
     "collapsed": false,
     "input": [
      "#actually, only split on the first colon\n",
      "for line in data[0].split('\\r\\n'):\n",
      "    if not line: \n",
      "        continue\n",
      "    if line[0] == '<':\n",
      "        continue\n",
      "    element = line.split(':', 1) \n",
      "    print '*', element"
     ],
     "language": "python",
     "metadata": {},
     "outputs": [
      {
       "output_type": "stream",
       "stream": "stdout",
       "text": [
        "* ['Title', ' Portland wool sales']\n",
        "* ['Description', ' press statement']\n",
        "* ['Date', ' 2/04/1963']\n",
        "* ['Collection', ' John Malcolm Fraser, 2007.0023']\n",
        "* ['Collection URI', ' http://gallery.its.unimelb.edu.au/imu/imu.php?request=load&irn=115190&ecatalogue=on&view=details']\n",
        "* ['Format', ' Uncorrected OCR text']\n"
       ]
      }
     ],
     "prompt_number": 21
    },
    {
     "cell_type": "heading",
     "level": 3,
     "metadata": {},
     "source": [
      "Build a dictionary and define a function"
     ]
    },
    {
     "cell_type": "markdown",
     "metadata": {},
     "source": [
      "We've now split up the elements of the metadata, but we want to be able to interrogate it so that we can start to find out something about the collection of files. To do that, we need to build a dictionary."
     ]
    },
    {
     "cell_type": "code",
     "collapsed": false,
     "input": [
      "#make a dictionary of items in the metadata section\n",
      "metadata = {}\n",
      "for line in data[0].split('\\r\\n'):\n",
      "    if not line: \n",
      "        continue\n",
      "    if line[0] == '<':\n",
      "        continue\n",
      "    element = line.split(':', 1) \n",
      "    metadata[element[0]] = element[-1]\n",
      "print metadata"
     ],
     "language": "python",
     "metadata": {},
     "outputs": [
      {
       "output_type": "stream",
       "stream": "stdout",
       "text": [
        "{'Collection URI': ' http://gallery.its.unimelb.edu.au/imu/imu.php?request=load&irn=115190&ecatalogue=on&view=details', 'Description': ' press statement', 'Format': ' Uncorrected OCR text', 'Title': ' Portland wool sales', 'Collection': ' John Malcolm Fraser, 2007.0023', 'Date': ' 2/04/1963'}\n"
       ]
      }
     ],
     "prompt_number": 22
    },
    {
     "cell_type": "code",
     "collapsed": false,
     "input": [
      "#look up the date\n",
      "print metadata['Date']"
     ],
     "language": "python",
     "metadata": {},
     "outputs": [
      {
       "output_type": "stream",
       "stream": "stdout",
       "text": [
        " 2/04/1963\n"
       ]
      }
     ],
     "prompt_number": 23
    },
    {
     "cell_type": "markdown",
     "metadata": {},
     "source": [
      "Creating a function means that we can perform an operation multiple times without having to type out all the code every time. There are over 700 files in our directory, so by defining a function and running it over all the files in our directory, we can then interrogate the collection and learn something about it."
     ]
    },
    {
     "cell_type": "code",
     "collapsed": false,
     "input": [
      "#make a function so that we can break up the metadata for each file, and get rid of the whitespace at the start of each element \n",
      "def parse_metadata(text):\n",
      "    metadata = {}\n",
      "    for line in text.split('\\r\\n'):\n",
      "        if not line: \n",
      "            continue\n",
      "        if line[0] == '<':\n",
      "            continue\n",
      "        element = line.split(':', 1) \n",
      "        metadata[element[0]] = element[-1].strip(' ')\n",
      "    return metadata"
     ],
     "language": "python",
     "metadata": {},
     "outputs": [],
     "prompt_number": 24
    },
    {
     "cell_type": "code",
     "collapsed": false,
     "input": [
      "#run the function\n",
      "parse_metadata(data[0])"
     ],
     "language": "python",
     "metadata": {},
     "outputs": [
      {
       "metadata": {},
       "output_type": "pyout",
       "prompt_number": 25,
       "text": [
        "{'Collection': 'John Malcolm Fraser, 2007.0023',\n",
        " 'Collection URI': 'http://gallery.its.unimelb.edu.au/imu/imu.php?request=load&irn=115190&ecatalogue=on&view=details',\n",
        " 'Date': '2/04/1963',\n",
        " 'Description': 'press statement',\n",
        " 'Format': 'Uncorrected OCR text',\n",
        " 'Title': 'Portland wool sales'}"
       ]
      }
     ],
     "prompt_number": 25
    },
    {
     "cell_type": "heading",
     "level": 2,
     "metadata": {},
     "source": [
      "Putting it together: exploring multiple files"
     ]
    },
    {
     "cell_type": "markdown",
     "metadata": {},
     "source": [
      "Now that we're confident that the function works, let's find out a bit about the corpus. As a start, it would be useful to know which years the texts are from. Are they evenly distributed over time? A graph will tell us!"
     ]
    },
    {
     "cell_type": "code",
     "collapsed": false,
     "input": [
      "#import conditional frequency distribution\n",
      "from nltk.probability import ConditionalFreqDist\n",
      "cfdist = ConditionalFreqDist()\n",
      "for filename in os.listdir('UMA_Fraser_Radio_Talks'):\n",
      "    text = open('UMA_Fraser_Radio_Talks/' + filename).read()\n",
      "    #split text of file on 'end metadata'\n",
      "    text = text.split(\"<!--end metadata-->\")\n",
      "    #parse metadata using previously defined function \"parse_metadata\"\n",
      "    metadata = parse_metadata(text[0])\n",
      "    #skip all speeches for which there is no exact date\n",
      "    if metadata['Date'][0] == 'c':\n",
      "        continue\n",
      "    #build a frequency distribution graph by year, that is, take the final bit of the 'Date' string after '/'\n",
      "    cfdist['count'][metadata['Date'].split('/')[-1]] += 1\n",
      "cfdist.plot()\n"
     ],
     "language": "python",
     "metadata": {},
     "outputs": [
      {
       "metadata": {},
       "output_type": "display_data",
       "png": "[encoded data removed]",
       "text": [
        "<matplotlib.figure.Figure at 0x23f5ed0>"
       ]
      }
     ],
     "prompt_number": 29
    },
    {
     "cell_type": "code",
     "collapsed": false,
     "input": [
      "from nltk.probability import ConditionalFreqDist\n",
      "cfdist = ConditionalFreqDist()\n",
      "for filename in os.listdir('UMA_Fraser_Radio_Talks'):\n",
      "    text = open('UMA_Fraser_Radio_Talks/' + filename).read()\n",
      "    #split text of file on 'end metadata'\n",
      "    text = text.split(\"<!--end metadata-->\")\n",
      "    #parse metadata using previously defined function \"parse_metadata\"\n",
      "    metadata = parse_metadata(text[0])\n",
      "    #remove 'c' from speeches without an exact date\n",
      "    if metadata['Date'][0] == 'c':\n",
      "        year = 'Date'[:4] \n",
      "    elif metadata['Date'][0] != 'c': \n",
      "        year2 = metadata['Date'].split('/')[-1]\n",
      "    cfdist['count']['year2'] += 1\n",
      "cfdist.plot()"
     ],
     "language": "python",
     "metadata": {},
     "outputs": []
    },
    {
     "cell_type": "markdown",
     "metadata": {},
     "source": [
      "What sorts of texts are in the corpus? Are they predominantly radio speeches? What else is in there?"
     ]
    },
    {
     "cell_type": "code",
     "collapsed": false,
     "input": [
      "cfdist2 = ConditionalFreqDist()\n",
      "for filename in os.listdir('UMA_Fraser_Radio_Talks'):\n",
      "    text = open('UMA_Fraser_Radio_Talks/' + filename).read()\n",
      "    #split text of file on 'end metadata'\n",
      "    text = text.split(\"<!--end metadata-->\")\n",
      "    #parse metadata using previously defined function \"parse_metadata\"\n",
      "    metadata = parse_metadata(text[0])\n",
      "    #skip all speeches for which there is no exact date\n",
      "    if metadata['Date'][0] == 'c':\n",
      "        continue\n",
      "    #build a frequency distribution graph by 'Description'\n",
      "    cfdist2['count'][metadata['Description']] += 1\n",
      "cfdist2.plot()\n"
     ],
     "language": "python",
     "metadata": {},
     "outputs": [
      {
       "metadata": {},
       "output_type": "display_data",
       "png": "[encoded data removed]",
       "text": [
        "<matplotlib.figure.Figure at 0x2a0d190>"
       ]
      }
     ],
     "prompt_number": 30
    },
    {
     "cell_type": "markdown",
     "metadata": {},
     "source": [
      "Previously, we tokenized the text of a file so that we could conduct some analysis. Let's now tokenize just the body of the file, not the metadata. As an exersize, let's see how the modal verbs 'must', 'should' and 'will' occur in the text."
     ]
    },
    {
     "cell_type": "code",
     "collapsed": false,
     "input": [
      "#tokenize the body of the text so that we can start to analyse it\n",
      "tokens = word_tokenize(data[1])\n",
      "tokens.count('should')"
     ],
     "language": "python",
     "metadata": {},
     "outputs": [
      {
       "metadata": {},
       "output_type": "pyout",
       "prompt_number": 35,
       "text": [
        "1"
       ]
      }
     ],
     "prompt_number": 35
    },
    {
     "cell_type": "code",
     "collapsed": false,
     "input": [
      "#count \n",
      "tokens.count('must')"
     ],
     "language": "python",
     "metadata": {},
     "outputs": [
      {
       "metadata": {},
       "output_type": "pyout",
       "prompt_number": 36,
       "text": [
        "1"
       ]
      }
     ],
     "prompt_number": 36
    },
    {
     "cell_type": "code",
     "collapsed": false,
     "input": [
      "tokens.count('will')"
     ],
     "language": "python",
     "metadata": {},
     "outputs": [
      {
       "metadata": {},
       "output_type": "pyout",
       "prompt_number": 37,
       "text": [
        "7"
       ]
      }
     ],
     "prompt_number": 37
    },
    {
     "cell_type": "markdown",
     "metadata": {},
     "source": [
      "Now let's do that for all of the files. We could export the result to a different tool now to create graphics or conduct further analysis."
     ]
    },
    {
     "cell_type": "code",
     "collapsed": false,
     "input": [
      "for filename in os.listdir('UMA_Fraser_Radio_Talks'):\n",
      "    text = open('UMA_Fraser_Radio_Talks/' + filename).read()\n",
      "    #split text of file on 'end metadata'\n",
      "    text = text.split(\"<!--end metadata-->\")\n",
      "    #parse metadata using previously defined function \"parse_metadata\"\n",
      "    metadata = parse_metadata(text[0])\n",
      "    #skip all speeches for which there is no exact date\n",
      "    if metadata['Date'][0] == 'c':\n",
      "        continue\n",
      "    #tokenise the text of the speech\n",
      "    tokens = word_tokenize(text[1].decode('ascii', errors='ignore'))\n",
      "    #show the date of each speech count how often 'should' and 'must' are used in each\n",
      "    print metadata['Date'], ',', tokens.count('should'), ',', tokens.count('must'), ',', tokens.count('will')"
     ],
     "language": "python",
     "metadata": {},
     "outputs": [
      {
       "output_type": "stream",
       "stream": "stdout",
       "text": [
        "2/04/1963 , 1 , 1 , 7\n",
        "7/04/1963 , 10 , 0 , 2\n",
        "21/04/1963"
       ]
      },
      {
       "output_type": "stream",
       "stream": "stdout",
       "text": [
        " , 4 , 5 , 8\n",
        "28/04/1963 , 3 , 2 , 2\n",
        "28/04/1963 , "
       ]
      },
      {
       "output_type": "stream",
       "stream": "stdout",
       "text": [
        "3 , 1 , 2\n",
        "5/05/1963 , 7 , 1 , 0\n",
        "12/05/1963 , 1 , 0 , 0\n",
        "19/05/1963 , 1 , 1 , 12\n",
        "19/05/1963"
       ]
      },
      {
       "output_type": "stream",
       "stream": "stdout",
       "text": [
        " , 2 , 1 , 11\n",
        "3/05/1970 , 0 , 0 , 9\n",
        "26/05/1963 , 2 , 1 , 4\n",
        "2/06/1963"
       ]
      },
      {
       "output_type": "stream",
       "stream": "stdout",
       "text": [
        " , 1 , 0 , 27\n",
        "9/06/1963 , 4 , 1 , 12\n",
        "18/08/1963 , 3 , 0 , 6\n",
        "25/08/1963"
       ]
      },
      {
       "output_type": "stream",
       "stream": "stdout",
       "text": [
        " , 2 , 1 , 19\n",
        "1/09/1963 , 2 , 1 , 20\n",
        "8/09/1963 , 2 , 2 , 12\n",
        "15/09/1963"
       ]
      },
      {
       "output_type": "stream",
       "stream": "stdout",
       "text": [
        " , 0 , 0 , 6\n",
        "16/08/1963 , 4 , 1 , 5\n",
        "17/09/1963 , 3 , 5 , 1\n",
        "6/05/1970"
       ]
      },
      {
       "output_type": "stream",
       "stream": "stdout",
       "text": [
        " , 3 , 0 , 6\n",
        "22/09/1963 , 3 , 0 , 0\n",
        "25/09/1963 , 1 , 3 , 13\n",
        "29/09/1963"
       ]
      },
      {
       "output_type": "stream",
       "stream": "stdout",
       "text": [
        " , 2 , 3 , 14\n",
        "6/10/1963 , 4 , 0 , 2\n",
        "6/10/1963 , 1 , 0 , 10\n",
        "13/10/1963 , 9 , 0 , 3\n",
        "17/10/1963"
       ]
      },
      {
       "output_type": "stream",
       "stream": "stdout",
       "text": [
        " , 8 , 0 , 4\n",
        "25/10/1963 , 0 , 0 , 4\n",
        "27/10/1963 , 5 , 0 , 15\n",
        "3/11/1963 , 2 , 2 , 11\n",
        "17/05/1970"
       ]
      },
      {
       "output_type": "stream",
       "stream": "stdout",
       "text": [
        " , 1 , 1 , 4\n",
        "10/11/1963 , 0 , 2 , 6\n",
        "12/11/1963 , 5 , 1 , 2\n",
        "14/11/1963 , 2 , 0 , 7\n",
        "18/11/1963 , 2 , 0 , 4\n",
        "20/11/1963"
       ]
      },
      {
       "output_type": "stream",
       "stream": "stdout",
       "text": [
        " , 2 , 1 , 7\n",
        "22/11/1963 , 1 , 0 , 7\n",
        "25/11/1963 , 0 , 0 , 1\n",
        "25/11/1963 , 2 , 0 , 0\n",
        "26/11/1963 , 0 , 0 , 0\n",
        "27/11/1963 , 1 , 0 , 7\n",
        "8/12/1963 , 2 , 1 , 16\n",
        "11/12/1963"
       ]
      },
      {
       "output_type": "stream",
       "stream": "stdout",
       "text": [
        " , 0 , 0 , 0\n",
        "1/03/1964 , 0 , 0 , 7\n",
        "8/03/1964 , 2 , 0 , 8\n",
        "15/03/1964 , 1 , 1 , 17\n",
        "22/03/1964"
       ]
      },
      {
       "output_type": "stream",
       "stream": "stdout",
       "text": [
        " , 3 , 3 , 30\n",
        "29/03/1964 , 6 , 1 , 10\n",
        "24/05/1970 , 1 , 3 , 5\n",
        "12/04/1964 , 4 , 0 , 5\n",
        "19/04/1964"
       ]
      },
      {
       "output_type": "stream",
       "stream": "stdout",
       "text": [
        " , 3 , 1 , 19\n",
        "26/04/1964 , 2 , 0 , 1\n",
        "26/04/1964 , 2 , 0 , 3\n",
        "3/05/1964 , 2 , 1 , 13\n",
        "17/05/1964 , 3 , 3 , 1\n",
        "10/05/1964"
       ]
      },
      {
       "output_type": "stream",
       "stream": "stdout",
       "text": [
        " , 3 , 1 , 16\n",
        "17/05/1964 , 1 , 0 , 5\n",
        "20/05/1964 , 1 , 0 , 0\n",
        "30/05/1964 , 1 , 1 , 0\n",
        "1/06/1964 , 0 , 1 , 2\n",
        "1/06/1964"
       ]
      },
      {
       "output_type": "stream",
       "stream": "stdout",
       "text": [
        " , 3 , 1 , 1\n",
        "5/06/1964 , 0 , 0 , 7\n",
        "18/06/1964 , 1 , 0 , 0\n",
        "22/06/1964 , 0 , 0 , 6\n",
        "26/06/1964"
       ]
      },
      {
       "output_type": "stream",
       "stream": "stdout",
       "text": [
        " , 2 , 0 , 9\n",
        "27/06/1964 , 0 , 0 , 0\n",
        "27/06/1964 , 0 , 0 , 8\n",
        "1/07/1964 , 0 , 0 , 5\n",
        "1/07/1964 , 2 , 0 , 1\n",
        "31/05/1970"
       ]
      },
      {
       "output_type": "stream",
       "stream": "stdout",
       "text": [
        " , 1 , 5 , 8\n",
        "6/07/1964 , 0 , 0 , 2\n",
        "6/07/1964 , 0 , 0 , 3\n",
        "21/07/1964 , 2 , 5 , 5\n",
        "16/08/1964 , 5 , 3 , 7\n",
        "23/08/1964"
       ]
      },
      {
       "output_type": "stream",
       "stream": "stdout",
       "text": [
        " , 0 , 0 , 5\n",
        "30/08/1964 , 3 , 1 , 2\n",
        "30/08/1964 , 1 , 0 , 10\n",
        "13/09/1964 , 1 , 1 , 1\n",
        "20/09/1964 , 0 , 0 , 3\n",
        "27/09/1964"
       ]
      },
      {
       "output_type": "stream",
       "stream": "stdout",
       "text": [
        " , 4 , 1 , 2\n",
        "7/06/1970 , 2 , 1 , 5\n",
        "4/10/1964 , 1 , 1 , 5\n",
        "11/10/1964"
       ]
      },
      {
       "output_type": "stream",
       "stream": "stdout",
       "text": [
        " , 3 , 2 , 7\n",
        "11/10/1963 , 5 , 0 , 4\n",
        "18/10/1964 , 1 , 0 , 3\n",
        "1/11/1964 , 2 , 1 , 13\n",
        "8/11/1964"
       ]
      },
      {
       "output_type": "stream",
       "stream": "stdout",
       "text": [
        " , 1 , 2 , 10\n",
        "12/11/1964 , 0 , 0 , 1\n",
        "15/11/1964 , 3 , 5 , 22\n",
        "22/11/1964 , 2 , 0 , 12\n",
        "29/11/1964"
       ]
      },
      {
       "output_type": "stream",
       "stream": "stdout",
       "text": [
        " , 2 , 2 , 16\n",
        "26/01/1965 , 0 , 0 , 1\n",
        "5/02/1965 , 0 , 1 , 1\n",
        "17/02/1965 , 2 , 0 , 11\n",
        "21/03/1965 , 3 , 0 , 3\n",
        "28/03/1965"
       ]
      },
      {
       "output_type": "stream",
       "stream": "stdout",
       "text": [
        " , 3 , 3 , 10\n",
        "4/04/1965 , 4 , 1 , 3\n",
        "11/04/1965 , 3 , 3 , 12\n",
        "18/04/1965 , 3 , 1 , 26\n",
        "25/04/1965"
       ]
      },
      {
       "output_type": "stream",
       "stream": "stdout",
       "text": [
        " , 1 , 1 , 1\n",
        "12/11/1969 , 0 , 0 , 2\n",
        "2/05/1965 , 1 , 2 , 15\n",
        "9/05/1965 , 0 , 6 , 4\n",
        "16/05/1965 ,"
       ]
      },
      {
       "output_type": "stream",
       "stream": "stdout",
       "text": [
        " 4 , 1 , 14\n",
        "23/05/1965 , 0 , 8 , 21\n",
        "23/05/1965 , 0 , 3 , 1\n",
        "30/05/1965 , 5 , 0 , 6\n",
        "6/06/1965 , 2 , 1 , 18\n",
        "22/08/1965"
       ]
      },
      {
       "output_type": "stream",
       "stream": "stdout",
       "text": [
        " , 2 , 2 , 15\n",
        "29/08/1965 , 2 , 1 , 19\n",
        "5/09/1965 , 3 , 0 , 7\n",
        "14/06/1970"
       ]
      },
      {
       "output_type": "stream",
       "stream": "stdout",
       "text": [
        " , 0 , 1 , 8\n",
        "10/09/1965 , 2 , 1 , 7\n",
        "19/09/1965 , 2 , 0 , 7\n",
        "19/09/1965 , 0 , 1 , 1\n",
        "26/09/1965 , 2 , 0 , 14\n",
        "3/10/1965"
       ]
      },
      {
       "output_type": "stream",
       "stream": "stdout",
       "text": [
        " , 3 , 1 , 5\n",
        "10/10/1965 , 1 , 0 , 4\n",
        "10/10/1965 , 3 , 1 , 0\n",
        "17/10/1965 , 3 , 0 , 4\n",
        "21/10/1965 , 3 , 0 , 3\n",
        "24/10/1965"
       ]
      },
      {
       "output_type": "stream",
       "stream": "stdout",
       "text": [
        " , 0 , 0 , 6\n",
        "31/10/1965 , 2 , 0 , 12\n",
        "7/11/1965 , 5 , 2 , 6\n",
        "21/11/1965 , 3 , 0 , 16\n",
        "22/11/1965"
       ]
      },
      {
       "output_type": "stream",
       "stream": "stdout",
       "text": [
        " , 0 , 1 , 0\n",
        "23/11/1965 , 4 , 0 , 8\n",
        "28/11/1965 , 7 , 0 , 3\n",
        "5/12/1965 , 2 , 1 , 3\n",
        "7/12/1965"
       ]
      },
      {
       "output_type": "stream",
       "stream": "stdout",
       "text": [
        " , 1 , 1 , 5\n",
        "12/12/1965 , 0 , 4 , 11\n",
        "20/08/1970 , 0 , 0 , 0\n",
        "15/02/1967 , 0 , 0 , 0\n",
        "15/02/1967 , 0 , 0 , 0\n",
        "21/02/1967 , 0 , 0 , 0\n",
        "26/02/1967 , 0 , 0 , 3\n",
        "28/02/1967 , 2 , 0 , 6\n",
        "7/03/1967"
       ]
      },
      {
       "output_type": "stream",
       "stream": "stdout",
       "text": [
        " , 0 , 3 , 1\n",
        "7/03/1967 , 0 , 0 , 1\n",
        "9/03/1967 , 0 , 0 , 2\n",
        "12/03/1967 , 0 , 0 , 0\n",
        "20/03/1967 , 3 , 0 , 1\n",
        "23/03/1967 , 0 , 0 , 3\n",
        "23/03/1967 , 2 , 0 , 12\n",
        "28/03/1967 , 0 , 0 , 0\n",
        "28/03/1967"
       ]
      },
      {
       "output_type": "stream",
       "stream": "stdout",
       "text": [
        " , 0 , 0 , 0\n",
        "31/03/1967 , 0 , 0 , 1\n",
        "11/04/1967 , 0 , 0 , 2\n",
        "14/03/1967 , 0 , 0 , 0\n",
        "18/04/1967 , 0 , 0 , 1\n",
        "19/04/1967 , 0 , 2 , 2\n",
        "20/04/1967 , 0 , 0 , 7\n",
        "21/04/1967 , 0 , 0 , 2\n",
        "26/04/1967 , 0 , 0 , 0\n",
        "10/05/1967"
       ]
      },
      {
       "output_type": "stream",
       "stream": "stdout",
       "text": [
        " , 0 , 0 , 0\n",
        "14/05/1967 , 0 , 0 , 3\n",
        "15/05/1967 , 0 , 0 , 0\n",
        "17/05/1967 , 0 , 0 , 0\n",
        "23/05/1967 , 0 , 0 , 1\n",
        "23/05/1967 , 0 , 0 , 0\n",
        "30/08/1970"
       ]
      },
      {
       "output_type": "stream",
       "stream": "stdout",
       "text": [
        " , 5 , 0 , 5\n",
        "1/06/1967 , 0 , 0 , 0\n",
        "2/06/1967 , 0 , 0 , 3\n",
        "15/06/1967 , 0 , 0 , 2\n",
        "22/06/1967 , 1 , 0 , 0\n",
        "9/06/1967 , 4 , 0 , 7\n",
        "5/07/1967"
       ]
      },
      {
       "output_type": "stream",
       "stream": "stdout",
       "text": [
        " , 0 , 0 , 1\n",
        "13/07/1967 , 0 , 0 , 0\n",
        "14/07/1967 , 0 , 0 , 1\n",
        "18/07/1967 , 0 , 0 , 2\n",
        "21/07/1967 , 0 , 0 , 8\n",
        "3/08/1967 , 4 , 1 , 6\n",
        "9/08/1967"
       ]
      },
      {
       "output_type": "stream",
       "stream": "stdout",
       "text": [
        " , 0 , 0 , 0\n",
        "13/08/1967 , 4 , 5 , 13\n",
        "22/08/1967"
       ]
      },
      {
       "output_type": "stream",
       "stream": "stdout",
       "text": [
        " , 0 , 1 , 9\n",
        "28/08/1967 , 0 , 0 , 16\n",
        "17/09/1967 , 0 , 0 , 0\n",
        "18/09/1967 , 0 , 0 , 1\n",
        "22/10/1967 , 0 , 0 , 1\n",
        "13/11/1967 , 0 , 0 , 0\n",
        "17/11/1967 , 1 , 0 , 2\n",
        "12/03/1961"
       ]
      },
      {
       "output_type": "stream",
       "stream": "stdout",
       "text": [
        " , 3 , 0 , 11\n",
        "3/12/1967 , 0 , 0 , 0\n",
        "1/12/1967 , 0 , 1 , 1\n",
        "12/02/1968 , 0 , 0 , 2\n",
        "12/02/1968 , 0 , 0 , 0\n",
        "19/02/1968 , 0 , 0 , 0\n",
        "20/02/1968 , 0 , 0 , 0\n",
        "20/02/1968 , 0 , 0 , 0\n",
        "28/02/1968"
       ]
      },
      {
       "output_type": "stream",
       "stream": "stdout",
       "text": [
        " , 0 , 0 , 6\n",
        "15/03/1968 , 2 , 0 , 10\n",
        "15/03/1968 , 0 , 0 , 7\n",
        "19/03/1961 , 2 , 0 , 2\n",
        "15/03/1968 , 1 , 0 , 1\n",
        "26/03/1968 , 0 , 0 , 2\n",
        "26/04/1968 , 3 , 0 , 5\n",
        "24/01/1954"
       ]
      },
      {
       "output_type": "stream",
       "stream": "stdout",
       "text": [
        " , 1 , 4 , 4\n",
        "31/01/1954 , 0 , 0 , 4\n",
        "7/02/1954 , 2 , 2 , 2\n",
        "14/02/1954 , 1 , 2 , 3\n",
        "21/02/1954 , 0 , 0 , 1\n",
        "28/02/1954"
       ]
      },
      {
       "output_type": "stream",
       "stream": "stdout",
       "text": [
        " , 1 , 0 , 2\n",
        "7/03/1954 , 1 , 4 , 4\n",
        "26/03/1961 , 1 , 0 , 6\n",
        "8/03/1970 , 0 , 0 , 9\n",
        "14/03/1954"
       ]
      },
      {
       "output_type": "stream",
       "stream": "stdout",
       "text": [
        " , 4 , 2 , 3\n",
        "21/03/1954 , 0 , 7 , 2\n",
        "3/03/1954 , 0 , 1 , 1\n",
        "4/04/1954 , 1 , 5 , "
       ]
      },
      {
       "output_type": "stream",
       "stream": "stdout",
       "text": [
        "2\n",
        "11/04/1954 , 0 , 0 , 6\n",
        "18/04/1954 , 3 , 1 , 4\n",
        "25/04/1954 , 0 , 1 , 4\n",
        "2/05/1954 , 0 , 6 , 2\n",
        "2/04/1961"
       ]
      },
      {
       "output_type": "stream",
       "stream": "stdout",
       "text": [
        " , 2 , 1 , 2\n",
        "26/08/1956 , 3 , 1 , 2\n",
        "2/09/1956 , 4 , 2 , 1\n",
        "9/09/1956 , 0 , 1 , 1\n",
        "9/04/1961 , 0 , 1 , 9\n",
        "16/09/1956"
       ]
      },
      {
       "output_type": "stream",
       "stream": "stdout",
       "text": [
        " , 1 , 0 , 13\n",
        "23/09/1956 , 3 , 0 , 1\n",
        "30/09/1956 , 0 , 0 , 0\n",
        "7/10/1956 , 0 , 5 , 8\n",
        "14/10/1956 , 0 , 0 , 6\n",
        "21/10/1956 , 3 , 1 , 7\n",
        "28/10/1956"
       ]
      },
      {
       "output_type": "stream",
       "stream": "stdout",
       "text": [
        " , 0 , 2 , 5\n",
        "4/11/1956 , 5 , 2 , 5\n",
        "11/11/1956 , 0 , 1 , 2\n",
        "18/11/1956 , 3 , 0 , 8\n",
        "16/04/1961 , 1 , 1 , 3\n",
        "25/11/1956"
       ]
      },
      {
       "output_type": "stream",
       "stream": "stdout",
       "text": [
        " , 1 , 0 , 9\n",
        "2/12/1956 , 3 , 0 , 5\n",
        "9/12/1956 , 2 , 0 , 6\n",
        "24/03/1957 , 0 , 2 , 8\n",
        "7/04/1957 , 7 , 3 , 7\n",
        "2/04/1957"
       ]
      },
      {
       "output_type": "stream",
       "stream": "stdout",
       "text": [
        " , 0 , 0 , 1\n",
        "14/04/1957 , 0 , 0 , 4\n",
        "21/04/1957 , 1 , 2 , 11\n",
        "23/04/1961 , 3 , 1 , 2\n",
        "28/04/1957 , "
       ]
      },
      {
       "output_type": "stream",
       "stream": "stdout",
       "text": [
        "1 , 0 , 3\n",
        "5/05/1957 , 8 , 5 , 5\n",
        "12/05/1957 , 0 , 1 , 8\n",
        "19/05/1957 , 0 , 5 , 8\n",
        "26/05/1957 , 9 , 1 , 3\n",
        "31/05/1957"
       ]
      },
      {
       "output_type": "stream",
       "stream": "stdout",
       "text": [
        " , 2 , 3 , 4\n",
        "2/06/1957 , 4 , 0 , 13\n",
        "9/06/1957 , 5 , 2 , 6\n",
        "16/06/1957 , 1 , 0 , 3\n",
        "23/06/1957"
       ]
      },
      {
       "output_type": "stream",
       "stream": "stdout",
       "text": [
        " , 2 , 8 , 5\n",
        "30/04/1961 , 2 , 0 , 2\n",
        "30/06/1957 , 3 , 7 , 1\n",
        "7/07/1957 , 2 , 1 , 1\n",
        "14/07/1957"
       ]
      },
      {
       "output_type": "stream",
       "stream": "stdout",
       "text": [
        " , 1 , 3 , 3\n",
        "21/07/1957 , 0 , 1 , 2\n",
        "28/07/1957 , 0 , 1 , 2\n",
        "4/08/1957 , 1 , 1 , 7\n",
        "11/08/1957"
       ]
      },
      {
       "output_type": "stream",
       "stream": "stdout",
       "text": [
        " , 2 , 1 , 0\n",
        "18/08/1957 , 0 , 1 , 1\n",
        "25/08/1957 , 0 , 0 , 17\n",
        "1/09/1957 , 0 , 0 , 12\n",
        "7/05/1961 , "
       ]
      },
      {
       "output_type": "stream",
       "stream": "stdout",
       "text": [
        "7 , 1 , 5\n",
        "7/09/1957 , 4 , 0 , 17\n",
        "15/09/1957 , 0 , 0 , 9\n",
        "22/09/1957 , 3 , 0 , 13\n",
        "29/09/1957 , 0 , 0 , 6\n",
        "6/10/1957"
       ]
      },
      {
       "output_type": "stream",
       "stream": "stdout",
       "text": [
        " , 1 , 1 , 0\n",
        "8/11/1957 , 0 , 5 , 8\n",
        "15/11/1957 , 0 , 0 , 4\n",
        "27/10/1957 , 1 , 1 , 1\n",
        "14/05/1961"
       ]
      },
      {
       "output_type": "stream",
       "stream": "stdout",
       "text": [
        " , 1 , 0 , 2\n",
        "22/11/1957 , 1 , 0 , 5\n",
        "29/11/1957 , 3 , 0 , 8\n",
        "17/02/1958 , 0 , 0 , 5\n",
        "19/02/1958 , 0 , 2 , 2\n",
        "23/02/1958 , 0 , 1 , 2\n",
        "2/03/1958"
       ]
      },
      {
       "output_type": "stream",
       "stream": "stdout",
       "text": [
        " , 0 , 0 , 1\n",
        "25/02/1958 , 1 , 1 , 4\n",
        "16/03/1958 , 0 , 0 , 4\n",
        "21/05/1961"
       ]
      },
      {
       "output_type": "stream",
       "stream": "stdout",
       "text": [
        " , 6 , 2 , 7\n",
        "19/03/1958 , 0 , 1 , 5\n",
        "30/03/1958 , 2 , 0 , 1\n",
        "6/04/1958"
       ]
      },
      {
       "output_type": "stream",
       "stream": "stdout",
       "text": [
        " , 0 , 3 , 5\n",
        "13/04/1958 , 2 , 0 , 12\n",
        "20/04/1958 , 1 , 2 , "
       ]
      },
      {
       "output_type": "stream",
       "stream": "stdout",
       "text": [
        "10\n",
        "23/04/1958 , 0 , 3 , 6\n",
        "4/05/1958 , 1 , 1 , 1\n",
        "11/05/1958"
       ]
      },
      {
       "output_type": "stream",
       "stream": "stdout",
       "text": [
        " , 4 , 1 , 2\n",
        "18/05/1958 , 2 , 0 , 13\n",
        "28/05/1961 , 0 , 1 , 1\n",
        "25/05/1958"
       ]
      },
      {
       "output_type": "stream",
       "stream": "stdout",
       "text": [
        " , 1 , 3 , 1\n",
        "1/06/1958 , 0 , 2 , 4\n",
        "8/06/1958"
       ]
      },
      {
       "output_type": "stream",
       "stream": "stdout",
       "text": [
        " , 0 , 0 , 14\n",
        "22/06/1958 , 3 , 2 , 5\n",
        "29/06/1958 , 4 , 0 , 0\n",
        "6/07/1958 , 2 , 0 , 9\n",
        "13/07/1958"
       ]
      },
      {
       "output_type": "stream",
       "stream": "stdout",
       "text": [
        " , 0 , 0 , 2\n",
        "20/07/1958 , 0 , 0 , 9\n",
        "27/07/1958 , 4 , 2 , 2\n",
        "3/08/1958 , 2 , 1 , 7\n",
        "28/05/1961"
       ]
      },
      {
       "output_type": "stream",
       "stream": "stdout",
       "text": [
        " , 1 , 0 , 7\n",
        "10/08/1958 , 0 , 3 , 11\n",
        "17/08/1958 , 1 , 7 , 3\n",
        "21/08/1958 , 2 , 2 , 8\n",
        "7/09/1958"
       ]
      },
      {
       "output_type": "stream",
       "stream": "stdout",
       "text": [
        " , 1 , 1 , 3\n",
        "5/09/1958 , 0 , 1 , 2\n",
        "31/08/1958 , 1 , 1 , 1\n",
        "1/02/1959 , 1 , 0 , 8\n",
        "4/06/1961 , 1 , 0 , 4\n",
        "12/02/1959"
       ]
      },
      {
       "output_type": "stream",
       "stream": "stdout",
       "text": [
        " , 1 , 2 , 2\n",
        "18/02/1959 , 0 , 1 , 3\n",
        "8/03/1959 , 3 , 0 , 1\n",
        "15/03/1959 , 3 , 0 , 16\n",
        "22/03/1959 , 4 , 0 , 14\n",
        "29/03/1959"
       ]
      },
      {
       "output_type": "stream",
       "stream": "stdout",
       "text": [
        " , 11 , 6 , 9\n",
        "5/04/1959 , 6 , 2 , 15\n",
        "12/04/1959 , 3 , 1 , 4\n",
        "19/04/1959 , 2 , 0 , 2\n",
        "26/04/1959 , 0 , 4 , 10\n",
        "11/06/1961"
       ]
      },
      {
       "output_type": "stream",
       "stream": "stdout",
       "text": [
        " , 0 , 0 , 2\n",
        "3/05/1959 , 1 , 2 , 5\n",
        "10/05/1959 , 4 , 1 , 1\n",
        "17/05/1959 , 2 , 1 , 9\n",
        "24/05/1959 , 0 , 0 , 4\n",
        "31/05/1959 , 2 , 0 , 1\n",
        "7/06/1959"
       ]
      },
      {
       "output_type": "stream",
       "stream": "stdout",
       "text": [
        " , 0 , 0 , 1\n",
        "14/06/1959 , 3 , 0 , 1\n",
        "21/06/1959 , 1 , 1 , 7\n",
        "16/08/1959 , 4 , 0 , 1\n",
        "23/08/1959 , 2 , 0 , 10\n",
        "18/06/1961"
       ]
      },
      {
       "output_type": "stream",
       "stream": "stdout",
       "text": [
        " , 2 , 0 , 6\n",
        "30/08/1959 , 1 , 1 , 12\n",
        "6/09/1959 , 3 , 1 , 7\n",
        "13/09/1959"
       ]
      },
      {
       "output_type": "stream",
       "stream": "stdout",
       "text": [
        " , 1 , 0 , 7\n",
        "20/09/1959 , 1 , 3 , 0\n",
        "27/09/1959 , 3 , 2 , 2\n",
        "4/10/1959"
       ]
      },
      {
       "output_type": "stream",
       "stream": "stdout",
       "text": [
        " , 3 , 1 , 0\n",
        "9/10/1959 , 1 , 1 , 4\n",
        "18/10/1959 , 1 , 0 , 2\n",
        "19/10/1959"
       ]
      },
      {
       "output_type": "stream",
       "stream": "stdout",
       "text": [
        " , 0 , 0 , 10\n",
        "25/10/1959 , 1 , 1 , 5\n",
        "25/06/1961 , 3 , 1 , 5\n",
        "1/11/1959"
       ]
      },
      {
       "output_type": "stream",
       "stream": "stdout",
       "text": [
        " , 6 , 2 , 3\n",
        "8/11/1959 , 0 , 2 , 5\n",
        "15/11/1959 , 0 , 1 , 4\n",
        "22/11/1959"
       ]
      },
      {
       "output_type": "stream",
       "stream": "stdout",
       "text": [
        " , 0 , 1 , 2\n",
        "29/11/1959 , 0 , 4 , 4\n",
        "6/12/1959"
       ]
      },
      {
       "output_type": "stream",
       "stream": "stdout",
       "text": [
        " , 1 , 0 , 0\n",
        "13/12/1959 , 1 , 1 , 1\n",
        "20/12/1959 , 4 , 1 , 3\n",
        "3/09/1959"
       ]
      },
      {
       "output_type": "stream",
       "stream": "stdout",
       "text": [
        " , 0 , 0 , 2\n",
        "4/01/1960 , 1 , 1 , 1\n",
        "2/07/1961 , 2 , 1 , 11\n",
        "26/02/1960"
       ]
      },
      {
       "output_type": "stream",
       "stream": "stdout",
       "text": [
        " , 1 , 1 , 15\n",
        "8/03/1960 , 5 , 0 , 5\n",
        "3/04/1960 , 3 , 4 , 1\n",
        "10/04/1960 , 0 , 0 , 0\n",
        "17/04/1960"
       ]
      },
      {
       "output_type": "stream",
       "stream": "stdout",
       "text": [
        " , 4 , 0 , 2\n",
        "24/04/1960 , 8 , 0 , 7\n",
        "1/05/1960 , 0 , 0 , 14\n",
        "2/05/1960 , 0 , 0 , 1\n",
        "8/05/1960 , 1 , 4 , 8\n",
        "15/05/1960"
       ]
      },
      {
       "output_type": "stream",
       "stream": "stdout",
       "text": [
        " , 3 , 1 , 6\n",
        "9/07/1961 , 3 , 3 , 10\n",
        "22/05/1960 , 0 , 0 , 5\n",
        "29/05/1960 , 0 , 0 , 5\n",
        "5/06/1960"
       ]
      },
      {
       "output_type": "stream",
       "stream": "stdout",
       "text": [
        " , 0 , 2 , 6\n",
        "12/06/1960 , 4 , 2 , 4\n",
        "19/06/1960 , 0 , 0 , 3\n",
        "26/06/1960 , 4 , 0 , 9\n",
        "3/07/1960"
       ]
      },
      {
       "output_type": "stream",
       "stream": "stdout",
       "text": [
        " , 0 , 0 , 1\n",
        "5/07/1960 , 0 , 0 , 0\n",
        "10/07/1960 , 1 , 0 , 7\n",
        "17/07/1960 , 0 , 0 , 5\n",
        "16/07/1961"
       ]
      },
      {
       "output_type": "stream",
       "stream": "stdout",
       "text": [
        " , 3 , 0 , 4\n",
        "21/08/1960 , 1 , 1 , 0\n",
        "22/08/1960 , 2 , 0 , 9\n",
        "4/09/1960 , 0 , 1 , 1\n",
        "11/09/1960"
       ]
      },
      {
       "output_type": "stream",
       "stream": "stdout",
       "text": [
        " , 0 , 0 , 0\n",
        "18/09/1960 , 0 , 0 , 1\n",
        "20/09/1960 , 1 , 3 , 6\n",
        "25/09/1960"
       ]
      },
      {
       "output_type": "stream",
       "stream": "stdout",
       "text": [
        " , 4 , 1 , 10\n",
        "29/09/1960 , 3 , 1 , 6\n",
        "30/09/1960 , 0 , 0 , 0\n",
        "5/10/1960"
       ]
      },
      {
       "output_type": "stream",
       "stream": "stdout",
       "text": [
        " , 0 , 0 , 0\n",
        "23/07/1961 , 5 , 3 , 9\n",
        "7/10/1960 , 1 , 0 , 4\n",
        "12/10/1960 , 4 , 0 , 2\n",
        "18/10/1960"
       ]
      },
      {
       "output_type": "stream",
       "stream": "stdout",
       "text": [
        " , 4 , 1 , 6\n",
        "28/10/1960 , 3 , 2 , 8\n",
        "6/11/1960 , 2 , 0 , 1\n",
        "11/11/1960 , 0 , 0 , 12\n",
        "13/11/1960 , 2 , 3 , 9\n",
        "27/11/1960 , 0 , 0 , 0\n",
        "11/12/1960 , 0 , 0 , 0\n",
        "30/07/1961"
       ]
      },
      {
       "output_type": "stream",
       "stream": "stdout",
       "text": [
        " , 4 , 3 , 5\n",
        "26/01/1961 , 1 , 0 , 2\n",
        "7/02/1961 , 3 , 0 , 4\n",
        "9/03/1961 , 1 , 0 , 5\n",
        "2/08/1966 , 2 , 2 , 10\n",
        "20/11/1966"
       ]
      },
      {
       "output_type": "stream",
       "stream": "stdout",
       "text": [
        " , 0 , 0 , 5\n",
        "21/11/1966 , 0 , 1 , 0\n",
        "9/02/1967 , 0 , 0 , 1\n",
        "15/02/1967 , 0 , 0 , 2\n",
        "26/02/1967 , 1 , 0 , 1\n",
        "3/03/1967 , 1 , "
       ]
      },
      {
       "output_type": "stream",
       "stream": "stdout",
       "text": [
        "3 , 2\n",
        "6/08/1961 , 4 , 3 , 19\n",
        "17/03/1967 , 0 , 0 , 1\n",
        "23/03/1967 , 1 , 0 , 7\n",
        "29/03/1967"
       ]
      },
      {
       "output_type": "stream",
       "stream": "stdout",
       "text": [
        " , 0 , 0 , 3\n",
        "29/03/1967 , 1 , 0 , 0\n",
        "6/04/1967 , 1 , 1 , 7\n",
        "12/04/1967 , 0 , 0 , 13\n",
        "13/04/1967 , 0 , 1 , 9\n",
        "21/04/1967"
       ]
      },
      {
       "output_type": "stream",
       "stream": "stdout",
       "text": [
        " , 2 , 0 , 14\n",
        "28/04/1967 , 2 , 0 , 9\n",
        "13/08/1961 , 1 , 2 , 8\n",
        "5/05/1967 , 2 , 1 , 12\n",
        "7/05/1967"
       ]
      },
      {
       "output_type": "stream",
       "stream": "stdout",
       "text": [
        " , 1 , 1 , 3\n",
        "12/05/1967 , 1 , 0 , 12\n",
        "19/05/1967 , 6 , 5 , 5\n",
        "19/05/1967"
       ]
      },
      {
       "output_type": "stream",
       "stream": "stdout",
       "text": [
        " , 8 , 2 , 6\n",
        "2/06/1967 , 6 , 0 , 9\n",
        "22/08/1967 , 3 , 3 , 16\n",
        "1/09/1967"
       ]
      },
      {
       "output_type": "stream",
       "stream": "stdout",
       "text": [
        " , 6 , 2 , 6\n",
        "8/09/1967 , 0 , 0 , 3\n",
        "8/09/1967 , 0 , 0 , 0\n",
        "20/08/1961 , 10 , 0 , 6\n",
        "8/09/1967 , 0 , 0 , 2\n",
        "25/09/1967"
       ]
      },
      {
       "output_type": "stream",
       "stream": "stdout",
       "text": [
        " , 0 , 0 , 2\n",
        "29/09/1967 , 4 , 0 , 18\n",
        "29/09/1967 , 1 , 0 , 2\n",
        "9/10/1967 , 3 , 0 , 2\n",
        "16/10/1967 , 0 , 0 , 1\n",
        "20/10/1967"
       ]
      },
      {
       "output_type": "stream",
       "stream": "stdout",
       "text": [
        " , 2 , 1 , 6\n",
        "31/10/1967 , 7 , 0 , 2\n",
        "6/11/1967 , 2 , 0 , 13\n",
        "6/11/1967 , 1 , 0 , 2\n",
        "27/08/1961"
       ]
      },
      {
       "output_type": "stream",
       "stream": "stdout",
       "text": [
        " , 7 , 2 , 4\n",
        "8/11/1967 , 1 , 0 , 4\n",
        "12/11/1967 , 3 , 1 , 4\n",
        "19/11/1967 , 5 , 0 , 9\n",
        "28/11/1967"
       ]
      },
      {
       "output_type": "stream",
       "stream": "stdout",
       "text": [
        " , 0 , 0 , 9\n",
        "11/12/1967 , 0 , 1 , 7\n",
        "20/12/1967 , 0 , 0 , 0\n",
        "2/05/1968 , 4 , 0 , 2\n",
        "11/09/1968"
       ]
      },
      {
       "output_type": "stream",
       "stream": "stdout",
       "text": [
        " , 0 , 0 , 0\n",
        "3/09/1961 , 0 , 0 , 4\n",
        "17/09/1968 , 0 , 2 , 2\n",
        "22/09/1968 , 1 , 0 , 4\n",
        "29/09/1968"
       ]
      },
      {
       "output_type": "stream",
       "stream": "stdout",
       "text": [
        " , 1 , 0 , 6\n",
        "6/10/1968 , 2 , 3 , 2\n",
        "27/10/1968 , 0 , 0 , 2\n",
        "17/11/1968"
       ]
      },
      {
       "output_type": "stream",
       "stream": "stdout",
       "text": [
        " , 2 , 6 , 5\n",
        "3/09/1961 , 1 , 1 , 4\n",
        "19/02/1969 , 0 , 0 , 3\n",
        "3/03/1969 , 1 , 0 , 4\n",
        "19/03/1969 , 1 , 1 , 1\n",
        "1/04/1969 , 4 , 0 , 5\n",
        "11/04/1969"
       ]
      },
      {
       "output_type": "stream",
       "stream": "stdout",
       "text": [
        " , 3 , 2 , 0\n",
        "30/04/1969 , 3 , 0 , 17\n",
        "10/09/1961 , 3 , 0 , 4\n",
        "11/05/1969 , 4 , 0 , 4\n",
        "28/03/1971"
       ]
      },
      {
       "output_type": "stream",
       "stream": "stdout",
       "text": [
        " , 1 , 5 , 9\n",
        "15/04/1971 , 2 , 0 , 5\n",
        "22/04/1971 , 1 , 0 , 2\n",
        "2/05/1971 , 2 , 1 , 14\n",
        "9/05/1971"
       ]
      },
      {
       "output_type": "stream",
       "stream": "stdout",
       "text": [
        " , 0 , 1 , 19\n",
        "17/09/1961 , 2 , 0 , 1\n",
        "16/05/1971 , 2 , 0 , 13\n",
        "29/08/1971 , 1 , 1 , 16\n",
        "5/09/1971"
       ]
      },
      {
       "output_type": "stream",
       "stream": "stdout",
       "text": [
        " , 2 , 2 , 5\n",
        "12/09/1971 , 5 , 2 , 7\n",
        "19/09/1971 , 0 , 1 , 16\n",
        "3/10/1971 , 1"
       ]
      },
      {
       "output_type": "stream",
       "stream": "stdout",
       "text": [
        " , 0 , 7\n",
        "10/10/1971 , 3 , 0 , 5\n",
        "17/10/1971 , 0 , 3 , 15\n",
        "24/10/1971 , 1 , 0 , 3\n",
        "21/09/1961"
       ]
      },
      {
       "output_type": "stream",
       "stream": "stdout",
       "text": [
        " , 10 , 2 , 9\n",
        "31/10/1971 , 1 , 0 , 5\n",
        "7/11/1971 , 0 , 0 , 3\n",
        "14/11/1971 , 1 , 2 , 5\n",
        "21/11/1971"
       ]
      },
      {
       "output_type": "stream",
       "stream": "stdout",
       "text": [
        " , 0 , 1 , 4\n",
        "29/11/1971 , 0 , 2 , 5\n",
        "5/12/1971 , 0 , 2 , 3\n",
        "12/12/1971 , 0 , 0 , 13\n",
        "19/12/1971"
       ]
      },
      {
       "output_type": "stream",
       "stream": "stdout",
       "text": [
        " , 1 , 0 , 6\n",
        "27/02/1972 , 1 , 2 , 6\n",
        "5/03/1972 , 0 , 1 , 4\n",
        "22/09/1961 , 0 , 0 , 0\n",
        "12/03/1972"
       ]
      },
      {
       "output_type": "stream",
       "stream": "stdout",
       "text": [
        " , 0 , 1 , 0\n",
        "19/03/1972 , 0 , 4 , 2\n",
        "26/03/1972 , 0 , 0 , 0\n",
        "2/04/1972 , 3 , 4 , 3\n",
        "9/04/1972"
       ]
      },
      {
       "output_type": "stream",
       "stream": "stdout",
       "text": [
        " , 2 , 1 , 7\n",
        "16/04/1972 , 3 , 1 , 9\n",
        "23/04/1972 , 0 , 1 , 0\n",
        "25/04/1972 , 6 , 4 , 1\n",
        "30/04/1972"
       ]
      },
      {
       "output_type": "stream",
       "stream": "stdout",
       "text": [
        " , 2 , 3 , 11\n",
        "7/05/1972 , 0 , 8 , 8\n",
        "24/09/1961 , 2 , 1 , 1\n",
        "14/05/1972 , 1 , 0 , 15\n",
        "21/05/1972"
       ]
      },
      {
       "output_type": "stream",
       "stream": "stdout",
       "text": [
        " , 1 , 2 , 1\n",
        "28/05/1972 , 1 , 0 , 6\n",
        "4/06/1972 , 2 , 4 , 1\n",
        "11/06/1972 , 1 , 1 , 11\n",
        "18/06/1972"
       ]
      },
      {
       "output_type": "stream",
       "stream": "stdout",
       "text": [
        " , 0 , 1 , 5\n",
        "25/06/1972 , 3 , 5 , 12\n",
        "2/07/1972 , 1 , 0 , 0\n",
        "9/07/1972 , 4 , 3 , 2\n",
        "16/07/1972"
       ]
      },
      {
       "output_type": "stream",
       "stream": "stdout",
       "text": [
        " , 3 , 0 , 7\n",
        "1/10/1961 , 1 , 2 , 4\n",
        "18/07/1972 , 0 , 0 , 0\n",
        "30/07/1972"
       ]
      },
      {
       "output_type": "stream",
       "stream": "stdout",
       "text": [
        " , 0 , 1 , 6\n",
        "6/08/1972 , 1 , 1 , 2\n",
        "13/08/1972"
       ]
      },
      {
       "output_type": "stream",
       "stream": "stdout",
       "text": [
        " , 2 , 3 , 0\n",
        "20/08/1972 , 1 , 1 , 35\n",
        "27/08/1972"
       ]
      },
      {
       "output_type": "stream",
       "stream": "stdout",
       "text": [
        " , 2 , 1 , 7\n",
        "3/09/1972 , 1 , 2 , 25\n",
        "10/09/1972 , 3 , 1 , 17\n",
        "17/09/1972"
       ]
      },
      {
       "output_type": "stream",
       "stream": "stdout",
       "text": [
        " , 2 , 0 , 4\n",
        "24/09/1972 , 2 , 1 , 16\n",
        "8/10/1961 , 4 , 0 , 21\n",
        "1/10/1972"
       ]
      },
      {
       "output_type": "stream",
       "stream": "stdout",
       "text": [
        " , 1 , 1 , 7\n",
        "8/10/1972 , 2 , 0 , 5\n",
        "15/10/1972 , 2 , 0 , 13\n",
        "22/10/1972 , 2 , 1 , 5\n",
        "29/10/1972"
       ]
      },
      {
       "output_type": "stream",
       "stream": "stdout",
       "text": [
        " , 1 , 0 , 6\n",
        "5/11/1972 , 3 , 4 , 2\n",
        "12/11/1972 , 1 , 0 , 6\n",
        "19/11/1972 , 0 , 1 , 17\n",
        "26/11/1972"
       ]
      },
      {
       "output_type": "stream",
       "stream": "stdout",
       "text": [
        " , 1 , 4 , 6\n",
        "10/12/1972 , 2 , 4 , 6\n",
        "15/10/1961 , 4 , 2 , 8\n",
        "18/03/1973 , 0 , 1 , 6\n",
        "25/03/1973"
       ]
      },
      {
       "output_type": "stream",
       "stream": "stdout",
       "text": [
        " , 0 , 0 , 4\n",
        "1/04/1973 , 0 , 1 , 10\n",
        "8/04/1973 , 1 , 0 , 3\n",
        "15/04/1973 , 0 , 0 , 6\n",
        "22/04/1973"
       ]
      },
      {
       "output_type": "stream",
       "stream": "stdout",
       "text": [
        " , 1 , 2 , 13\n",
        "29/04/1973 , 1 , 0 , 6\n",
        "6/05/1973 , 1 , 1 , 8\n",
        "10/05/1973 , 0 , 2 , 6\n",
        "20/05/1973"
       ]
      },
      {
       "output_type": "stream",
       "stream": "stdout",
       "text": [
        " , 0 , 0 , 6\n",
        "22/10/1961 , 4 , 4 , 1\n",
        "27/05/1973 , 1 , 0 , 9\n",
        "30/09/1973 , 2 , 0 , 6\n",
        "14/10/1973"
       ]
      },
      {
       "output_type": "stream",
       "stream": "stdout",
       "text": [
        " , 4 , 2 , 9\n",
        "21/10/1973 , 0 , 2 , 11\n",
        "28/10/1973 , 0 , 0 , 4\n",
        "18/11/1973"
       ]
      },
      {
       "output_type": "stream",
       "stream": "stdout",
       "text": [
        " , 1 , 0 , 3\n",
        "25/11/1973 , 4 , 0 , 7\n",
        "9/12/1973 , 3 , 0 , 2\n",
        "17/12/1973"
       ]
      },
      {
       "output_type": "stream",
       "stream": "stdout",
       "text": [
        " , 0 , 1 , 4\n",
        "4/04/1973 , 0 , 1 , 21\n",
        "29/10/1961"
       ]
      },
      {
       "output_type": "stream",
       "stream": "stdout",
       "text": [
        " , 4 , 0 , 6\n",
        "8/04/1973 , 1 , 0 , 3\n",
        "13/04/1973 , 1 , 2 , 9\n",
        "15/04/1973 , 0 , 0 , 5\n",
        "29/04/1973"
       ]
      },
      {
       "output_type": "stream",
       "stream": "stdout",
       "text": [
        " , 1 , 0 , 6\n",
        "31/05/1973 , 3 , 1 , 8\n",
        "13/08/1973 , 1 , 1 , 5\n",
        "31/03/1974 , 0 , 2 , 3\n",
        "7/04/1974 , 0 , 0 , 5\n",
        "14/04/1974"
       ]
      },
      {
       "output_type": "stream",
       "stream": "stdout",
       "text": [
        " , 3 , 2 , 2\n",
        "25/02/1962 , 2 , 4 , 12\n",
        "10/03/1974 , 1 , 1 , 11\n",
        "17/03/1974"
       ]
      },
      {
       "output_type": "stream",
       "stream": "stdout",
       "text": [
        " , 1 , 2 , 2\n",
        "24/03/1974 , 0 , 1 , 1\n",
        "22/09/1974 , 3 , 0 , 20\n",
        "29/09/1974"
       ]
      },
      {
       "output_type": "stream",
       "stream": "stdout",
       "text": [
        " , 4 , 0 , 14\n",
        "6/10/1974 , 3 , 0 , 2\n",
        "13/10/1974 , 0 , 0 , 7\n",
        "20/10/1974 , 4 , 1 , 6\n",
        "27/10/1974"
       ]
      },
      {
       "output_type": "stream",
       "stream": "stdout",
       "text": [
        " , 1 , 0 , 5\n",
        "3/11/1974 , 0 , 1 , 4\n",
        "4/03/1962 , 4 , 0 , 14\n",
        "10/11/1974 , 0 , 0 , 4\n",
        "17/11/1974"
       ]
      },
      {
       "output_type": "stream",
       "stream": "stdout",
       "text": [
        " , 2 , 0 , 5\n",
        "24/11/1974 , 0 , 6 , 2\n",
        "1/12/1974 , 1 , 1 , 0\n",
        "8/12/1974"
       ]
      },
      {
       "output_type": "stream",
       "stream": "stdout",
       "text": [
        " , 2 , 0 , 2\n",
        "13/02/1975 , 1 , 1 , 3\n",
        "16/02/1975 , 0 , 1 , 10\n",
        "23/02/1975 , 2 , 1 , 1\n",
        "2/03/1975"
       ]
      },
      {
       "output_type": "stream",
       "stream": "stdout",
       "text": [
        " , 2 , 3 , 3\n",
        "17/03/1962 , 3 , 0 , 5\n",
        "30/03/1975 , 0 , 3 , 2\n",
        "4/04/1975 , 1 , 0 , 0\n",
        "13/04/1975 , 7 , 2 , 2\n",
        "20/04/1975"
       ]
      },
      {
       "output_type": "stream",
       "stream": "stdout",
       "text": [
        " , 0 , 3 , 3\n",
        "27/04/1975 , 1 , 1 , 1\n",
        "10/05/1975 , 1 , 1 , 3\n",
        "17/05/1975 , 0 , 0 , 2\n",
        "24/05/1975 , 0 , 0 , 1\n",
        "25/03/1962"
       ]
      },
      {
       "output_type": "stream",
       "stream": "stdout",
       "text": [
        " , 6 , 2 , 16\n",
        "31/05/1975 , 0 , 0 , 0\n",
        "8/06/1975 , 0 , 0 , 1\n",
        "8/06/1975 , 0 , 2 , 0\n",
        "15/06/1975 , 1 , 0 , 2\n",
        "21/06/1975"
       ]
      },
      {
       "output_type": "stream",
       "stream": "stdout",
       "text": [
        " , 1 , 1 , 2\n",
        "6/07/1975 , 0 , 2 , 3\n",
        "10/07/1975 , 0 , 0 , 0\n",
        "13/07/1975 , 0 , 1 , 0\n",
        "20/07/1975"
       ]
      },
      {
       "output_type": "stream",
       "stream": "stdout",
       "text": [
        " , 1 , 4 , 2\n",
        "27/07/1975 , 0 , 3 , 5\n",
        "1/04/1962 , 1 , 1 , 6\n",
        "12/04/1970 , "
       ]
      },
      {
       "output_type": "stream",
       "stream": "stdout",
       "text": [
        "2 , 0 , 10\n",
        "17/08/1975 , 1 , 0 , 10\n",
        "14/09/1975 , 1 , 2 , 0\n",
        "28/09/1975 , 0 , 1 , 10\n",
        "3/05/1981"
       ]
      },
      {
       "output_type": "stream",
       "stream": "stdout",
       "text": [
        " , 0 , 1 , 14\n",
        "10/05/1981 , 5 , 3 , 9\n",
        "17/05/1981 , 0 , 0 , 0\n",
        "24/05/1981 , 1 , 1 , 11\n",
        "7/06/1981"
       ]
      },
      {
       "output_type": "stream",
       "stream": "stdout",
       "text": [
        " , 2 , 0 , 8\n",
        "8/04/1962 , 5 , 1 , 14\n",
        "31/05/1981 , 2 , 3 , 4\n",
        "14/06/1981 , 0 , 0 , 0\n",
        "19/07/1981"
       ]
      },
      {
       "output_type": "stream",
       "stream": "stdout",
       "text": [
        " , 0 , 0 , 0\n",
        "9/08/1981 , 3 , 0 , 4\n",
        "16/08/1981 , 3 , 0 , 3\n",
        "23/08/1981 , 0 , 0 , 7\n",
        "4/10/1981 , 0 , 0 , 0\n",
        "11/10/1981"
       ]
      },
      {
       "output_type": "stream",
       "stream": "stdout",
       "text": [
        " , 0 , 1 , 3\n",
        "20/10/1981 , 3 , 1 , 15\n",
        "25/10/1981 , 0 , 0 , 0\n",
        "13/04/1962"
       ]
      },
      {
       "output_type": "stream",
       "stream": "stdout",
       "text": [
        " , 5 , 1 , 10\n",
        "1/11/1981 , 0 , 0 , 0\n",
        "8/11/1981 , 0 , 0 , 0\n",
        "15/11/1981 , 0 , 1 , 8\n",
        "22/11/1981 , 0 , 0 , 0\n",
        "29/11/1981 , 0 , 0 , 0\n",
        "14/02/1982"
       ]
      },
      {
       "output_type": "stream",
       "stream": "stdout",
       "text": [
        " , 0 , 0 , 4\n",
        "21/02/1982 , 2 , 2 , 11\n",
        "28/02/1982 , 0 , 0 , 0\n",
        "7/03/1982 , 0 , 0 , 0\n",
        "22/04/1962"
       ]
      },
      {
       "output_type": "stream",
       "stream": "stdout",
       "text": [
        " , 1 , 1 , 0\n",
        "14/03/1982 , 0 , 0 , 0\n",
        "28/03/1982 , 0 , 0 , 0\n",
        "18/04/1982 , 0 , 3 , 1\n",
        "25/04/1982 , 0 , 0 , 0\n",
        "2/05/1982 , 0 , 1 , 9\n",
        "9/05/1982"
       ]
      },
      {
       "output_type": "stream",
       "stream": "stdout",
       "text": [
        " , 0 , 0 , 0\n",
        "6/06/1982 , 0 , 0 , 0\n",
        "13/06/1982 , 0 , 0 , 0\n",
        "20/06/1982 , 0 , 0 , 1\n",
        "27/06/1982"
       ]
      },
      {
       "output_type": "stream",
       "stream": "stdout",
       "text": [
        " , 0 , 0 , 0\n",
        "29/04/1962 , 4 , 4 , 3\n",
        "4/07/1982"
       ]
      },
      {
       "output_type": "stream",
       "stream": "stdout",
       "text": [
        " , 0 , 0 , 0\n",
        "11/07/1982 , 1 , 0 , 16\n",
        "18/07/1982 , 0 , 0 , 0\n",
        "15/08/1982"
       ]
      },
      {
       "output_type": "stream",
       "stream": "stdout",
       "text": [
        " , 0 , 0 , 2\n",
        "22/08/1982 , 1 , 0 , 9\n",
        "29/08/1982 , 0 , 0 , 0\n",
        "12/09/1982"
       ]
      },
      {
       "output_type": "stream",
       "stream": "stdout",
       "text": [
        " , 2 , 0 , 14\n",
        "10/10/1982 , 0 , 0 , 2\n",
        "24/10/1982 , 1 , 0 , 16\n",
        "6/05/1962"
       ]
      },
      {
       "output_type": "stream",
       "stream": "stdout",
       "text": [
        " , 5 , 3 , 8\n",
        "25/09/1970 , 3 , 1 , 8\n",
        "20/09/1970"
       ]
      },
      {
       "output_type": "stream",
       "stream": "stdout",
       "text": [
        " , 2 , 2 , 5\n",
        "4/10/1970 , 0 , 1 , 3\n",
        "18/10/1970"
       ]
      },
      {
       "output_type": "stream",
       "stream": "stdout",
       "text": [
        " , 5 , 0 , 8\n",
        "25/10/1970 , 6 , 1 , 18\n",
        "1/11/1970"
       ]
      },
      {
       "output_type": "stream",
       "stream": "stdout",
       "text": [
        " , 1 , 2 , 14\n",
        "8/11/1970 , 1 , 0 , 10\n",
        "15/11/1970"
       ]
      },
      {
       "output_type": "stream",
       "stream": "stdout",
       "text": [
        " , 1 , 2 , 4\n",
        "22/11/1970 , 5 , 1 , 11\n",
        "4/12/1970"
       ]
      },
      {
       "output_type": "stream",
       "stream": "stdout",
       "text": [
        " , 3 , 1 , 4\n",
        "13/05/1962 , 5 , 1 , 14\n",
        "5/12/1970"
       ]
      },
      {
       "output_type": "stream",
       "stream": "stdout",
       "text": [
        " , 2 , 0 , 21\n",
        "21/02/1971 , 1 , 3 , 6\n",
        "28/02/1971"
       ]
      },
      {
       "output_type": "stream",
       "stream": "stdout",
       "text": [
        " , 1 , 1 , 17\n",
        "7/03/1971 , 1 , 0 , 14\n",
        "14/03/1971"
       ]
      },
      {
       "output_type": "stream",
       "stream": "stdout",
       "text": [
        " , 0 , 1 , 11\n",
        "3/06/1973 , 3 , 0 , 3\n",
        "10/06/1973 , 1 , 0 , 10\n",
        "26/08/1973"
       ]
      },
      {
       "output_type": "stream",
       "stream": "stdout",
       "text": [
        " , 0 , 0 , 11\n",
        "2/09/1973 , 0 , 0 , 10\n",
        "4/11/1973 , 1 , 2 , 6\n",
        "20/05/1962 , 5 , 1 , 7\n",
        "2/12/1973"
       ]
      },
      {
       "output_type": "stream",
       "stream": "stdout",
       "text": [
        " , 2 , 1 , 4\n",
        "29/06/1975 , 2 , 5 , 1\n",
        "3/08/1975 , 0 , 0 , 0\n",
        "10/08/1975 , 0 , 0 , 0\n",
        "31/08/1975"
       ]
      },
      {
       "output_type": "stream",
       "stream": "stdout",
       "text": [
        " , 0 , 0 , 7\n",
        "7/09/1975 , 0 , 0 , 1\n",
        "21/09/1975 , 1 , 7 , 4\n",
        "5/10/1975 , 0 , 0 , 5\n",
        "12/10/1975 , 0 , 0 , 4\n",
        "19/10/1975"
       ]
      },
      {
       "output_type": "stream",
       "stream": "stdout",
       "text": [
        " , 0 , 0 , 0\n",
        "27/05/1962 , 5 , 0 , 20\n",
        "26/10/1975 , 0 , 0 , 0\n",
        "2/11/1975 , 2 , 0 , 0\n",
        "9/11/1975"
       ]
      },
      {
       "output_type": "stream",
       "stream": "stdout",
       "text": [
        " , 10 , 0 , 2\n",
        "12/08/1962 , 2 , 0 , 3\n",
        "19/08/1962 , 4 , 3 , 8\n",
        "26/08/1962"
       ]
      },
      {
       "output_type": "stream",
       "stream": "stdout",
       "text": [
        " , 4 , 1 , 5\n",
        "2/09/1962 , 0 , 0 , 0\n",
        "9/09/1962 , 6 , 2 , 2\n",
        "23/09/1962 , 2 , "
       ]
      },
      {
       "output_type": "stream",
       "stream": "stdout",
       "text": [
        "0 , 12\n",
        "16/09/1962 , 6 , 4 , 14\n",
        "30/09/1962 , 1 , 2 , 6\n",
        "7/10/1962"
       ]
      },
      {
       "output_type": "stream",
       "stream": "stdout",
       "text": [
        " , 3 , 2 , 17\n",
        "14/10/1962 , 3 , 0 , 3\n",
        "21/10/1962 , 9 , 0 , 5\n",
        "4/11/1962"
       ]
      },
      {
       "output_type": "stream",
       "stream": "stdout",
       "text": [
        " , 1 , 0 , 2\n",
        "30/04/1970 , 1 , 0 , 0\n",
        "18/11/1962 , 3 , 0 , 1\n",
        "11/11/1962 , 3 , 0 , 11\n",
        "25/11/1962"
       ]
      },
      {
       "output_type": "stream",
       "stream": "stdout",
       "text": [
        " , 0 , 0 , 0\n",
        "2/12/1962 , 3 , 0 , 8\n",
        "9/12/1962 , 7 , 0 , 17\n",
        "16/12/1962"
       ]
      },
      {
       "output_type": "stream",
       "stream": "stdout",
       "text": [
        " , 4 , 2 , 5\n",
        "22/01/1963 , 0 , 0 , 4\n",
        "29/01/1963 , 4 , 0 , 5\n",
        "31/03/1963 , 1 , 1 , 6\n",
        "1/04/1963 , 1 , 0 , 0\n",
        "1/05/1970"
       ]
      },
      {
       "output_type": "stream",
       "stream": "stdout",
       "text": [
        " , 1 , 0 , 1\n"
       ]
      }
     ],
     "prompt_number": 43
    },
    {
     "cell_type": "markdown",
     "metadata": {},
     "source": [
      "Finally, let's graph that result. How often are the different verbs used in each year?"
     ]
    },
    {
     "cell_type": "code",
     "collapsed": false,
     "input": [
      "cfdist2 = ConditionalFreqDist()\n",
      "for filename in os.listdir('UMA_Fraser_Radio_Talks'):\n",
      "    text = open('UMA_Fraser_Radio_Talks/' + filename).read()\n",
      "    #split text of file on 'end metadata'\n",
      "    text = text.split(\"<!--end metadata-->\")\n",
      "    #parse metadata using previously defined function \"parse_metadata\"\n",
      "    metadata = parse_metadata(text[0])\n",
      "    #skip all speeches for which there is no exact date\n",
      "    if metadata['Date'][0] == 'c':\n",
      "        continue\n",
      " \n",
      "    tokens = word_tokenize(text[1].decode('ascii', errors='ignore'))\n",
      "    #show the year of each speech count how often 'should', 'will' and 'must' are used in each year\n",
      "    year = metadata['Date'].split('/')[-1]\n",
      "    \n",
      "    cfdist2['should'][(year, tokens.count('should'))] += 1\n",
      "    cfdist2['will'][(year, tokens.count('will'))] += 1\n",
      "    cfdist2['must'][(year, tokens.count('must'))] += 1\n",
      "cfdist2.plot()"
     ],
     "language": "python",
     "metadata": {},
     "outputs": [
      {
       "metadata": {},
       "output_type": "display_data",
       "png": "[encoded data removed]",
       "text": [
        "<matplotlib.figure.Figure at 0x57e1050>"
       ]
      }
     ],
     "prompt_number": 45
    },
    {
     "cell_type": "heading",
     "level": 2,
     "metadata": {},
     "source": [
      "Your turn!"
     ]
    },
    {
     "cell_type": "markdown",
     "metadata": {},
     "source": [
      "Challenge: Now, apply what we've just done to your own text. Decide how to process it, ask some questions about your text and produce a graphic!"
     ]
    },
    {
     "cell_type": "code",
     "collapsed": false,
     "input": [
      "import re\n",
      "\n",
      "#date = '21/10/1975'\n",
      "date = 'ch1966'\n",
      "\n",
      "pattern1 = '([0-9]{1,2})/([0-9]{1,2})/([0-9]{4})'\n",
      "pattern2 = 'c([0-9]{4})'\n",
      "\n",
      "if re.search(pattern1, date):\n",
      "    print 'non-circa'\n",
      "elif re.search(pattern2, date):\n",
      "    print 'circa'\n",
      "else:\n",
      "    print 'something unexpected'"
     ],
     "language": "python",
     "metadata": {},
     "outputs": [
      {
       "output_type": "stream",
       "stream": "stdout",
       "text": [
        "something unexpected\n"
       ]
      }
     ],
     "prompt_number": 34
    },
    {
     "cell_type": "code",
     "collapsed": false,
     "input": [],
     "language": "python",
     "metadata": {},
     "outputs": []
    }
   ],
   "metadata": {}
  }
 ]
}