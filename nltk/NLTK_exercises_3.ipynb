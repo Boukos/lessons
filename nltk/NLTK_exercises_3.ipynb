{
 "metadata": {
  "name": "",
  "signature": "sha256:0b21386972c03239d2340dd1b8500f6de442cabc2e244a6fc3e57e31fadd3476"
 },
 "nbformat": 3,
 "nbformat_minor": 0,
 "worksheets": [
  {
   "cells": [
    {
     "cell_type": "heading",
     "level": 1,
     "metadata": {},
     "source": [
      "Working with raw text"
     ]
    },
    {
     "cell_type": "markdown",
     "metadata": {},
     "source": [
      "Some corpora have already been marked up for use with NLTK, but you're often going to want to work with your own texts. So how to we load them in and prepare them for use with NLTK? We're going to start by looking at some plain text (.txt) files of speeches and press releases from the Malcolm Fraser archive, held by the University of Melbourne. We'll look at some of the advantages and disadvantages of using NLTK, and problems of data wrangling. You can check out the Fraser Archive here: http://www.unimelb.edu.au/malcolmfraser/"
     ]
    },
    {
     "cell_type": "markdown",
     "metadata": {},
     "source": [
      "First of all, let's load in our text."
     ]
    },
    {
     "cell_type": "markdown",
     "metadata": {},
     "source": [
      "Via file management, open and inspect one file. What do you see? Are there any potential problems?"
     ]
    },
    {
     "cell_type": "code",
     "collapsed": false,
     "input": [
      "from __future__ import division\n",
      "import nltk, re, pprint\n",
      "from nltk import word_tokenize\n",
      "nltk.data.path.append('/home/researcher/lessons/nltk/nltk_data/')\n",
      "#import the library for reading files off a disk\n",
      "import os"
     ],
     "language": "python",
     "metadata": {},
     "outputs": [],
     "prompt_number": 1
    },
    {
     "cell_type": "markdown",
     "metadata": {},
     "source": [
      "Now, run the above import statements. You'll need these to import and process raw text."
     ]
    },
    {
     "cell_type": "markdown",
     "metadata": {},
     "source": [
      "The instructions here are slightly different from what you'll see in the book. That's because we're using Python 2.7, not Python 3. Now that we've got our texts, let's have a look at what is in the file directory."
     ]
    },
    {
     "cell_type": "code",
     "collapsed": false,
     "input": [
      "#access items in the directory 'UMA_Fraser_Radio_Talks' and view the first 3\n",
      "os.listdir('UMA_Fraser_Radio_Talks')[:3]"
     ],
     "language": "python",
     "metadata": {},
     "outputs": [
      {
       "metadata": {},
       "output_type": "pyout",
       "prompt_number": 2,
       "text": [
        "['UDS2013680-100-full.txt',\n",
        " 'UDS2013680-101-full.txt',\n",
        " 'UDS2013680-102-full.txt']"
       ]
      }
     ],
     "prompt_number": 2
    },
    {
     "cell_type": "heading",
     "level": 2,
     "metadata": {},
     "source": [
      "Revision: basic text analysis"
     ]
    },
    {
     "cell_type": "markdown",
     "metadata": {},
     "source": [
      "As revision, we'll go over some of the operations we learned last week before we get deeper into using Python to navigate the text. First we'll read in one speech and tokenize it. This means breaking it up into words for analysis"
     ]
    },
    {
     "cell_type": "code",
     "collapsed": false,
     "input": [
      "#open a file and call the content 'speech'\n",
      "speech = open('UMA_Fraser_Radio_Talks/UDS2013680-100-full.txt').read()\n",
      "#tokenize the speech and call the result 'vocab'\n",
      "vocab = word_tokenize(speech)"
     ],
     "language": "python",
     "metadata": {},
     "outputs": [],
     "prompt_number": 3
    },
    {
     "cell_type": "markdown",
     "metadata": {},
     "source": [
      "Determine the number of tokens in our speech, the number of unique tokens and pull out the longest words. What do you see?"
     ]
    },
    {
     "cell_type": "code",
     "collapsed": false,
     "input": [
      "len(vocab)"
     ],
     "language": "python",
     "metadata": {},
     "outputs": [
      {
       "metadata": {},
       "output_type": "pyout",
       "prompt_number": 4,
       "text": [
        "951"
       ]
      }
     ],
     "prompt_number": 4
    },
    {
     "cell_type": "code",
     "collapsed": false,
     "input": [
      "len(set(vocab))"
     ],
     "language": "python",
     "metadata": {},
     "outputs": [
      {
       "metadata": {},
       "output_type": "pyout",
       "prompt_number": 5,
       "text": [
        "423"
       ]
      }
     ],
     "prompt_number": 5
    },
    {
     "cell_type": "code",
     "collapsed": false,
     "input": [
      "V= set(vocab)\n",
      "long_words = [word for word in V if len(word) > 12]\n",
      "sorted(long_words)"
     ],
     "language": "python",
     "metadata": {},
     "outputs": [
      {
       "metadata": {},
       "output_type": "pyout",
       "prompt_number": 6,
       "text": [
        "['//gallery.its.unimelb.edu.au/imu/imu.php',\n",
        " 'determination',\n",
        " 'ecatalogue=on',\n",
        " 'la1s-see-iatiog',\n",
        " 'organisations']"
       ]
      }
     ],
     "prompt_number": 6
    },
    {
     "cell_type": "markdown",
     "metadata": {},
     "source": [
      "To perform more complex operations, we'll need to use a different tokenizer"
     ]
    },
    {
     "cell_type": "code",
     "collapsed": false,
     "input": [
      "from nltk.text import Text\n",
      "sent_vocab = Text(word_tokenize(speech))"
     ],
     "language": "python",
     "metadata": {},
     "outputs": [],
     "prompt_number": 7
    },
    {
     "cell_type": "code",
     "collapsed": false,
     "input": [
      "sent_vocab.collocations()"
     ],
     "language": "python",
     "metadata": {},
     "outputs": [
      {
       "output_type": "stream",
       "stream": "stdout",
       "text": [
        "New South; South Wales; Wool Selling; three major; Broking firm; State\n",
        "Government; Woolgrowing organisations; major Woolgrowing; Selling\n",
        "centre\n"
       ]
      }
     ],
     "prompt_number": 8
    },
    {
     "cell_type": "code",
     "collapsed": false,
     "input": [
      "sent_vocab.concordance(\"wool\")"
     ],
     "language": "python",
     "metadata": {},
     "outputs": [
      {
       "output_type": "stream",
       "stream": "stdout",
       "text": [
        "Displaying 5 of 5 matches:\n",
        "                                     wool sales Description : press statement \n",
        " to legislate to settle the Portland Wool Sales dispute . The field of negotia\n",
        "in New South Wales was called the `` Wool Selling Centres Protection Act . '' \n",
        " the best interests of Portland as a Wool Selling centre will be served if the\n",
        " way of Portland 's development as a Wool Selling centre . The other members o\n"
       ]
      }
     ],
     "prompt_number": 9
    },
    {
     "cell_type": "code",
     "collapsed": false,
     "input": [
      "#build a table of the 15 most common words in the text\n",
      "from nltk.probability import FreqDist\n",
      "fdist1 = FreqDist(sent_vocab)\n",
      "fdist1.tabulate(15)"
     ],
     "language": "python",
     "metadata": {},
     "outputs": [
      {
       "output_type": "stream",
       "stream": "stdout",
       "text": [
        " the    .    ,   to   of that  and   in Portland   be   is   It    a  not  The \n",
        "  53   40   36   33   28   15   13   11   11   11   10   10    9    8    8 \n"
       ]
      }
     ],
     "prompt_number": 10
    },
    {
     "cell_type": "code",
     "collapsed": false,
     "input": [
      "#and graph the results\n",
      "%matplotlib inline\n",
      "fdist1.plot(25, cumulative=True)"
     ],
     "language": "python",
     "metadata": {},
     "outputs": [
      {
       "metadata": {},
       "output_type": "display_data",
       "png": "[encoded data removed]",
       "text": [
        "<matplotlib.figure.Figure at 0x437b050>"
       ]
      }
     ],
     "prompt_number": 11
    },
    {
     "cell_type": "heading",
     "level": 2,
     "metadata": {},
     "source": [
      "Exploring further: splitting up text"
     ]
    },
    {
     "cell_type": "markdown",
     "metadata": {},
     "source": [
      "We've had a look at one file, but the real strength of NLTK is to be able to explore large bodies of text. Let's go back and have a look at the first 10 files in the directory. "
     ]
    },
    {
     "cell_type": "code",
     "collapsed": false,
     "input": [
      "#show first 10 filenames\n",
      "for filename in os.listdir('UMA_Fraser_Radio_Talks')[:10]:\n",
      "    print \"filename: %s\" % filename\n",
      "    print 'filename: UMA_Fraser_Radio_Talks/' + filename"
     ],
     "language": "python",
     "metadata": {},
     "outputs": [
      {
       "output_type": "stream",
       "stream": "stdout",
       "text": [
        "filename: UDS2013680-100-full.txt\n",
        "filename: UMA_Fraser_Radio_Talks/UDS2013680-100-full.txt\n",
        "filename: UDS2013680-101-full.txt\n",
        "filename: UMA_Fraser_Radio_Talks/UDS2013680-101-full.txt\n",
        "filename: UDS2013680-102-full.txt\n",
        "filename: UMA_Fraser_Radio_Talks/UDS2013680-102-full.txt\n",
        "filename: UDS2013680-103-full.txt\n",
        "filename: UMA_Fraser_Radio_Talks/UDS2013680-103-full.txt\n",
        "filename: UDS2013680-104-full.txt\n",
        "filename: UMA_Fraser_Radio_Talks/UDS2013680-104-full.txt\n",
        "filename: UDS2013680-105-full.txt\n",
        "filename: UMA_Fraser_Radio_Talks/UDS2013680-105-full.txt\n",
        "filename: UDS2013680-106-full.txt\n",
        "filename: UMA_Fraser_Radio_Talks/UDS2013680-106-full.txt\n",
        "filename: UDS2013680-107-full.txt\n",
        "filename: UMA_Fraser_Radio_Talks/UDS2013680-107-full.txt\n",
        "filename: UDS2013680-108-full.txt\n",
        "filename: UMA_Fraser_Radio_Talks/UDS2013680-108-full.txt\n",
        "filename: UDS2013680-109-full.txt\n",
        "filename: UMA_Fraser_Radio_Talks/UDS2013680-109-full.txt\n"
       ]
      }
     ],
     "prompt_number": 12
    },
    {
     "cell_type": "markdown",
     "metadata": {},
     "source": [
      "When we manually inspected the first file, we saw that it contained a metadata section, before the body of the text. We can ask Python to show us the start of the file. For analysing the text, it is useful to split the metadata section off, so that we can interrogate it separately but also so that it won't distort our results when we analyse the text."
     ]
    },
    {
     "cell_type": "code",
     "collapsed": false,
     "input": [
      "#view the first 100 charaters of the first file\n",
      "open('UMA_Fraser_Radio_Talks/' + os.listdir('UMA_Fraser_Radio_Talks')[0]).read()[:100]"
     ],
     "language": "python",
     "metadata": {},
     "outputs": [
      {
       "metadata": {},
       "output_type": "pyout",
       "prompt_number": 13,
       "text": [
        "'<!--start metadata-->\\r\\nTitle: Portland wool sales\\r\\nDescription: press statement\\r\\nDate: 2/04/1963\\r\\nCo'"
       ]
      }
     ],
     "prompt_number": 13
    },
    {
     "cell_type": "code",
     "collapsed": false,
     "input": [
      "#open the first file, read it into Python and split it into two items, metadata and body \n",
      "data = open('UMA_Fraser_Radio_Talks/' + os.listdir('UMA_Fraser_Radio_Talks')[0]).read().split(\"<!--end metadata-->\")"
     ],
     "language": "python",
     "metadata": {},
     "outputs": [],
     "prompt_number": 14
    },
    {
     "cell_type": "code",
     "collapsed": false,
     "input": [
      "#view the first part\n",
      "data[0]"
     ],
     "language": "python",
     "metadata": {},
     "outputs": [
      {
       "metadata": {},
       "output_type": "pyout",
       "prompt_number": 15,
       "text": [
        "'<!--start metadata-->\\r\\nTitle: Portland wool sales\\r\\nDescription: press statement\\r\\nDate: 2/04/1963\\r\\nCollection: John Malcolm Fraser, 2007.0023\\r\\nCollection URI: http://gallery.its.unimelb.edu.au/imu/imu.php?request=load&irn=115190&ecatalogue=on&view=details\\r\\nFormat: Uncorrected OCR text\\r\\n'"
       ]
      }
     ],
     "prompt_number": 15
    },
    {
     "cell_type": "markdown",
     "metadata": {},
     "source": [
      "How is the metadata broken up? What are the elements and how are they delimited?"
     ]
    },
    {
     "cell_type": "code",
     "collapsed": false,
     "input": [
      "#print the first part\n",
      "print data[0]"
     ],
     "language": "python",
     "metadata": {},
     "outputs": [
      {
       "output_type": "stream",
       "stream": "stdout",
       "text": [
        "<!--start metadata-->\r\n",
        "Title: Portland wool sales\r\n",
        "Description: press statement\r\n",
        "Date: 2/04/1963\r\n",
        "Collection: John Malcolm Fraser, 2007.0023\r\n",
        "Collection URI: http://gallery.its.unimelb.edu.au/imu/imu.php?request=load&irn=115190&ecatalogue=on&view=details\r\n",
        "Format: Uncorrected OCR text\r\n",
        "\n"
       ]
      }
     ],
     "prompt_number": 16
    },
    {
     "cell_type": "code",
     "collapsed": false,
     "input": [
      "#split the metadata component into lines on '\\r\\n', add a * to the start of each line\n",
      "for line in data[0].split('\\r\\n'):\n",
      "    print '*', line"
     ],
     "language": "python",
     "metadata": {},
     "outputs": [
      {
       "output_type": "stream",
       "stream": "stdout",
       "text": [
        "* <!--start metadata-->\n",
        "* Title: Portland wool sales\n",
        "* Description: press statement\n",
        "* Date: 2/04/1963\n",
        "* Collection: John Malcolm Fraser, 2007.0023\n",
        "* Collection URI: http://gallery.its.unimelb.edu.au/imu/imu.php?request=load&irn=115190&ecatalogue=on&view=details\n",
        "* Format: Uncorrected OCR text\n",
        "* \n"
       ]
      }
     ],
     "prompt_number": 17
    },
    {
     "cell_type": "code",
     "collapsed": false,
     "input": [
      "#get rid of the any line that starts with '<'\n",
      "for line in data[0].split('\\r\\n'):\n",
      "    if line[0] == '<':\n",
      "        continue\n",
      "    print '*', line"
     ],
     "language": "python",
     "metadata": {},
     "outputs": [
      {
       "output_type": "stream",
       "stream": "stdout",
       "text": [
        "* Title: Portland wool sales\n",
        "* Description: press statement\n",
        "* Date: 2/04/1963\n",
        "* Collection: John Malcolm Fraser, 2007.0023\n",
        "* Collection URI: http://gallery.its.unimelb.edu.au/imu/imu.php?request=load&irn=115190&ecatalogue=on&view=details\n",
        "* Format: Uncorrected OCR text\n"
       ]
      },
      {
       "ename": "IndexError",
       "evalue": "string index out of range",
       "output_type": "pyerr",
       "traceback": [
        "\u001b[1;31m---------------------------------------------------------------------------\u001b[0m\n\u001b[1;31mIndexError\u001b[0m                                Traceback (most recent call last)",
        "\u001b[1;32m<ipython-input-18-01b884de5032>\u001b[0m in \u001b[0;36m<module>\u001b[1;34m()\u001b[0m\n\u001b[0;32m      1\u001b[0m \u001b[1;31m#get rid of the any line that starts with '<'\u001b[0m\u001b[1;33m\u001b[0m\u001b[1;33m\u001b[0m\u001b[0m\n\u001b[0;32m      2\u001b[0m \u001b[1;32mfor\u001b[0m \u001b[0mline\u001b[0m \u001b[1;32min\u001b[0m \u001b[0mdata\u001b[0m\u001b[1;33m[\u001b[0m\u001b[1;36m0\u001b[0m\u001b[1;33m]\u001b[0m\u001b[1;33m.\u001b[0m\u001b[0msplit\u001b[0m\u001b[1;33m(\u001b[0m\u001b[1;34m'\\r\\n'\u001b[0m\u001b[1;33m)\u001b[0m\u001b[1;33m:\u001b[0m\u001b[1;33m\u001b[0m\u001b[0m\n\u001b[1;32m----> 3\u001b[1;33m     \u001b[1;32mif\u001b[0m \u001b[0mline\u001b[0m\u001b[1;33m[\u001b[0m\u001b[1;36m0\u001b[0m\u001b[1;33m]\u001b[0m \u001b[1;33m==\u001b[0m \u001b[1;34m'<'\u001b[0m\u001b[1;33m:\u001b[0m\u001b[1;33m\u001b[0m\u001b[0m\n\u001b[0m\u001b[0;32m      4\u001b[0m         \u001b[1;32mcontinue\u001b[0m\u001b[1;33m\u001b[0m\u001b[0m\n\u001b[0;32m      5\u001b[0m     \u001b[1;32mprint\u001b[0m \u001b[1;34m'*'\u001b[0m\u001b[1;33m,\u001b[0m \u001b[0mline\u001b[0m\u001b[1;33m\u001b[0m\u001b[0m\n",
        "\u001b[1;31mIndexError\u001b[0m: string index out of range"
       ]
      }
     ],
     "prompt_number": 18
    },
    {
     "cell_type": "code",
     "collapsed": false,
     "input": [
      "#get rid of empty lines and any line that starts with '<'\n",
      "for line in data[0].split('\\r\\n'):\n",
      "    if not line: \n",
      "        continue\n",
      "    if line[0] == '<':\n",
      "        continue\n",
      "    print '*', line"
     ],
     "language": "python",
     "metadata": {},
     "outputs": [
      {
       "output_type": "stream",
       "stream": "stdout",
       "text": [
        "* Title: Portland wool sales\n",
        "* Description: press statement\n",
        "* Date: 2/04/1963\n",
        "* Collection: John Malcolm Fraser, 2007.0023\n",
        "* Collection URI: http://gallery.its.unimelb.edu.au/imu/imu.php?request=load&irn=115190&ecatalogue=on&view=details\n",
        "* Format: Uncorrected OCR text\n"
       ]
      }
     ],
     "prompt_number": 19
    },
    {
     "cell_type": "code",
     "collapsed": false,
     "input": [
      "#split the metadata items on ':' so that we can interrogate each one\n",
      "for line in data[0].split('\\r\\n'):\n",
      "    if not line: \n",
      "        continue\n",
      "    if line[0] == '<':\n",
      "        continue\n",
      "    element = line.split(':') \n",
      "    print '*', element"
     ],
     "language": "python",
     "metadata": {},
     "outputs": [
      {
       "output_type": "stream",
       "stream": "stdout",
       "text": [
        "* ['Title', ' Portland wool sales']\n",
        "* ['Description', ' press statement']\n",
        "* ['Date', ' 2/04/1963']\n",
        "* ['Collection', ' John Malcolm Fraser, 2007.0023']\n",
        "* ['Collection URI', ' http', '//gallery.its.unimelb.edu.au/imu/imu.php?request=load&irn=115190&ecatalogue=on&view=details']\n",
        "* ['Format', ' Uncorrected OCR text']\n"
       ]
      }
     ],
     "prompt_number": 20
    },
    {
     "cell_type": "markdown",
     "metadata": {},
     "source": [
      "Type:        method_descriptor\n",
      "String form: <method 'split' of 'str' objects>\n",
      "Namespace:   Python builtin\n",
      "Docstring:\n",
      "S.split([sep [,maxsplit]]) -> list of strings\n",
      "\n",
      "Return a list of the words in the string S, using sep as the\n",
      "delimiter string.  If maxsplit is given, at most maxsplit\n",
      "splits are done. If sep is not specified or is None, any\n",
      "whitespace string is a separator and empty strings are removed\n",
      "from the result."
     ]
    },
    {
     "cell_type": "code",
     "collapsed": false,
     "input": [
      "#actually, only split on the first colon\n",
      "for line in data[0].split('\\r\\n'):\n",
      "    if not line: \n",
      "        continue\n",
      "    if line[0] == '<':\n",
      "        continue\n",
      "    element = line.split(':', 1) \n",
      "    print '*', element"
     ],
     "language": "python",
     "metadata": {},
     "outputs": [
      {
       "output_type": "stream",
       "stream": "stdout",
       "text": [
        "* ['Title', ' Portland wool sales']\n",
        "* ['Description', ' press statement']\n",
        "* ['Date', ' 2/04/1963']\n",
        "* ['Collection', ' John Malcolm Fraser, 2007.0023']\n",
        "* ['Collection URI', ' http://gallery.its.unimelb.edu.au/imu/imu.php?request=load&irn=115190&ecatalogue=on&view=details']\n",
        "* ['Format', ' Uncorrected OCR text']\n"
       ]
      }
     ],
     "prompt_number": 21
    },
    {
     "cell_type": "heading",
     "level": 3,
     "metadata": {},
     "source": [
      "Build a dictionary and define a function"
     ]
    },
    {
     "cell_type": "markdown",
     "metadata": {},
     "source": [
      "We've now split up the elements of the metadata, but we want to be able to interrogate it so that we can start to find out something about the collection of files. To do that, we need to build a dictionary."
     ]
    },
    {
     "cell_type": "code",
     "collapsed": false,
     "input": [
      "#make a dictionary of items in the metadata section\n",
      "metadata = {}\n",
      "for line in data[0].split('\\r\\n'):\n",
      "    if not line: \n",
      "        continue\n",
      "    if line[0] == '<':\n",
      "        continue\n",
      "    element = line.split(':', 1) \n",
      "    metadata[element[0]] = element[-1]\n",
      "print metadata"
     ],
     "language": "python",
     "metadata": {},
     "outputs": [
      {
       "output_type": "stream",
       "stream": "stdout",
       "text": [
        "{'Collection URI': ' http://gallery.its.unimelb.edu.au/imu/imu.php?request=load&irn=115190&ecatalogue=on&view=details', 'Description': ' press statement', 'Format': ' Uncorrected OCR text', 'Title': ' Portland wool sales', 'Collection': ' John Malcolm Fraser, 2007.0023', 'Date': ' 2/04/1963'}\n"
       ]
      }
     ],
     "prompt_number": 22
    },
    {
     "cell_type": "code",
     "collapsed": false,
     "input": [
      "#look up the date\n",
      "print metadata['Date']"
     ],
     "language": "python",
     "metadata": {},
     "outputs": [
      {
       "output_type": "stream",
       "stream": "stdout",
       "text": [
        " 2/04/1963\n"
       ]
      }
     ],
     "prompt_number": 23
    },
    {
     "cell_type": "markdown",
     "metadata": {},
     "source": [
      "Creating a function means that we can perform an operation multiple times without having to type out all the code every time. There are over 700 files in our directory, so by defining a function and running it over all the files in our directory, we can then interrogate the collection and learn something about it."
     ]
    },
    {
     "cell_type": "code",
     "collapsed": false,
     "input": [
      "#make a function so that we can break up the metadata for each file, and get rid of the whitespace at the start of each element \n",
      "def parse_metadata(text):\n",
      "    metadata = {}\n",
      "    for line in text.split('\\r\\n'):\n",
      "        if not line: \n",
      "            continue\n",
      "        if line[0] == '<':\n",
      "            continue\n",
      "        element = line.split(':', 1) \n",
      "        metadata[element[0]] = element[-1].strip(' ')\n",
      "    return metadata"
     ],
     "language": "python",
     "metadata": {},
     "outputs": [],
     "prompt_number": 24
    },
    {
     "cell_type": "code",
     "collapsed": false,
     "input": [
      "#run the function\n",
      "parse_metadata(data[0])"
     ],
     "language": "python",
     "metadata": {},
     "outputs": [
      {
       "metadata": {},
       "output_type": "pyout",
       "prompt_number": 25,
       "text": [
        "{'Collection': 'John Malcolm Fraser, 2007.0023',\n",
        " 'Collection URI': 'http://gallery.its.unimelb.edu.au/imu/imu.php?request=load&irn=115190&ecatalogue=on&view=details',\n",
        " 'Date': '2/04/1963',\n",
        " 'Description': 'press statement',\n",
        " 'Format': 'Uncorrected OCR text',\n",
        " 'Title': 'Portland wool sales'}"
       ]
      }
     ],
     "prompt_number": 25
    },
    {
     "cell_type": "heading",
     "level": 2,
     "metadata": {},
     "source": [
      "Putting it together: exploring multiple files"
     ]
    },
    {
     "cell_type": "markdown",
     "metadata": {},
     "source": [
      "Now that we're confident that the function works, let's find out a bit about the corpus. As a start, it would be useful to know which years the texts are from. Are they evenly distributed over time? A graph will tell us!"
     ]
    },
    {
     "cell_type": "code",
     "collapsed": false,
     "input": [
      "#import conditional frequency distribution\n",
      "from nltk.probability import ConditionalFreqDist\n",
      "cfdist = ConditionalFreqDist()\n",
      "for filename in os.listdir('UMA_Fraser_Radio_Talks'):\n",
      "    text = open('UMA_Fraser_Radio_Talks/' + filename).read()\n",
      "    #split text of file on 'end metadata'\n",
      "    text = text.split(\"<!--end metadata-->\")\n",
      "    #parse metadata using previously defined function \"parse_metadata\"\n",
      "    metadata = parse_metadata(text[0])\n",
      "    #skip all speeches for which there is no exact date\n",
      "    if metadata['Date'][0] == 'c':\n",
      "        continue\n",
      "    #build a frequency distribution graph by year, that is, take the final bit of the 'Date' string after '/'\n",
      "    cfdist['count'][metadata['Date'].split('/')[-1]] += 1\n",
      "cfdist.plot()\n"
     ],
     "language": "python",
     "metadata": {},
     "outputs": [
      {
       "metadata": {},
       "output_type": "display_data",
       "png": "[encoded data removed]",
       "text": [
        "<matplotlib.figure.Figure at 0x23f5ed0>"
       ]
      }
     ],
     "prompt_number": 29
    },
    {
     "cell_type": "code",
     "collapsed": false,
     "input": [
      "from nltk.probability import ConditionalFreqDist\n",
      "cfdist = ConditionalFreqDist()\n",
      "for filename in os.listdir('UMA_Fraser_Radio_Talks'):\n",
      "    text = open('UMA_Fraser_Radio_Talks/' + filename).read()\n",
      "    #split text of file on 'end metadata'\n",
      "    text = text.split(\"<!--end metadata-->\")\n",
      "    #parse metadata using previously defined function \"parse_metadata\"\n",
      "    metadata = parse_metadata(text[0])\n",
      "    #remove 'c' from speeches without an exact date\n",
      "    if metadata['Date'][0] == 'c':\n",
      "        year = 'Date'[:4] \n",
      "    elif metadata['Date'][0] != 'c': \n",
      "        year2 = metadata['Date'].split('/')[-1]\n",
      "    cfdist['count']['year2'] += 1\n",
      "cfdist.plot()"
     ],
     "language": "python",
     "metadata": {},
     "outputs": []
    },
    {
     "cell_type": "markdown",
     "metadata": {},
     "source": [
      "What sorts of texts are in the corpus? Are they predominantly radio speeches? What else is in there?"
     ]
    },
    {
     "cell_type": "code",
     "collapsed": false,
     "input": [
      "cfdist2 = ConditionalFreqDist()\n",
      "for filename in os.listdir('UMA_Fraser_Radio_Talks'):\n",
      "    text = open('UMA_Fraser_Radio_Talks/' + filename).read()\n",
      "    #split text of file on 'end metadata'\n",
      "    text = text.split(\"<!--end metadata-->\")\n",
      "    #parse metadata using previously defined function \"parse_metadata\"\n",
      "    metadata = parse_metadata(text[0])\n",
      "    #skip all speeches for which there is no exact date\n",
      "    #if metadata['Date'][0] == 'c':\n",
      "        #continue\n",
      "    #build a frequency distribution graph by 'Description'\n",
      "    cfdist2['count'][metadata['Description']] += 1\n",
      "cfdist2.plot()\n"
     ],
     "language": "python",
     "metadata": {},
     "outputs": [
      {
       "metadata": {},
       "output_type": "display_data",
       "png": "[encoded data removed]",
       "text": [
        "<matplotlib.figure.Figure at 0x2a0d190>"
       ]
      }
     ],
     "prompt_number": 30
    },
    {
     "cell_type": "markdown",
     "metadata": {},
     "source": [
      "Previously, we tokenized the text of a file so that we could conduct some analysis. Let's now tokenize just the body of the file, not the metadata. As an exersize, let's see how the modal verbs 'must', 'should' and 'will' occur in the text."
     ]
    },
    {
     "cell_type": "code",
     "collapsed": false,
     "input": [
      "#tokenize the body of the text so that we can start to analyse it\n",
      "tokens = word_tokenize(data[1])\n",
      "tokens.count('should')"
     ],
     "language": "python",
     "metadata": {},
     "outputs": []
    },
    {
     "cell_type": "code",
     "collapsed": false,
     "input": [
      "#count \n",
      "tokens.count('must')"
     ],
     "language": "python",
     "metadata": {},
     "outputs": []
    },
    {
     "cell_type": "code",
     "collapsed": false,
     "input": [
      "tokens.count('will')"
     ],
     "language": "python",
     "metadata": {},
     "outputs": []
    },
    {
     "cell_type": "markdown",
     "metadata": {},
     "source": [
      "Now let's do that for all of the files. We could export the result to a different tool now to create graphics or conduct further analysis."
     ]
    },
    {
     "cell_type": "code",
     "collapsed": false,
     "input": [
      "for filename in os.listdir('UMA_Fraser_Radio_Talks'):\n",
      "    text = open('UMA_Fraser_Radio_Talks/' + filename).read()\n",
      "    #split text of file on 'end metadata'\n",
      "    text = text.split(\"<!--end metadata-->\")\n",
      "    #parse metadata using previously defined function \"parse_metadata\"\n",
      "    metadata = parse_metadata(text[0])\n",
      "    #skip all speeches for which there is no exact date\n",
      "    if metadata['Date'][0] == 'c':\n",
      "        continue\n",
      "    #tokenise the text of the speech\n",
      "    tokens = word_tokenize(text[1])\n",
      "    #show the date of each speech count how often 'should' and 'must' are used in each\n",
      "    #print metadata['Date'], ',', tokens.count('should'), ',', tokens.count('must'), ',', tokens.count('will')"
     ],
     "language": "python",
     "metadata": {},
     "outputs": []
    },
    {
     "cell_type": "markdown",
     "metadata": {},
     "source": [
      "Finally, let's graph that result. How often are the different verbs used in each year?"
     ]
    },
    {
     "cell_type": "code",
     "collapsed": false,
     "input": [
      "cfdist2 = ConditionalFreqDist()\n",
      "for filename in os.listdir('UMA_Fraser_Radio_Talks'):\n",
      "    text = open('UMA_Fraser_Radio_Talks/' + filename).read()\n",
      "    #split text of file on 'end metadata'\n",
      "    text = text.split(\"<!--end metadata-->\")\n",
      "    #parse metadata using previously defined function \"parse_metadata\"\n",
      "    metadata = parse_metadata(text[0])\n",
      "    #skip all speeches for which there is no exact date\n",
      "    if metadata['Date'][0] == 'c':\n",
      "        continue\n",
      " \n",
      "    tokens = word_tokenize(text[1])\n",
      "    #show the year of each speech count how often 'should', 'will' and 'must' are used in each year\n",
      "    year = metadata['Date'].split('/')[-1]\n",
      "    \n",
      "    cfdist2['should'].inc(year, tokens.count('should'))\n",
      "    cfdist2['will'].inc(year, tokens.count('will'))\n",
      "    cfdist2['must'].inc(year, tokens.count('must'))\n",
      "cfdist2.plot()"
     ],
     "language": "python",
     "metadata": {},
     "outputs": []
    },
    {
     "cell_type": "heading",
     "level": 2,
     "metadata": {},
     "source": [
      "Your turn!"
     ]
    },
    {
     "cell_type": "markdown",
     "metadata": {},
     "source": [
      "Challenge: Now, apply what we've just done to your own text. Decide how to process it, ask some questions about your text and produce a graphic!"
     ]
    },
    {
     "cell_type": "code",
     "collapsed": false,
     "input": [
      "import re\n",
      "\n",
      "#date = '21/10/1975'\n",
      "date = 'ch1966'\n",
      "\n",
      "pattern1 = '([0-9]{1,2})/([0-9]{1,2})/([0-9]{4})'\n",
      "pattern2 = 'c([0-9]{4})'\n",
      "\n",
      "if re.search(pattern1, date):\n",
      "    print 'non-circa'\n",
      "elif re.search(pattern2, date):\n",
      "    print 'circa'\n",
      "else:\n",
      "    print 'something unexpected'"
     ],
     "language": "python",
     "metadata": {},
     "outputs": [
      {
       "output_type": "stream",
       "stream": "stdout",
       "text": [
        "something unexpected\n"
       ]
      }
     ],
     "prompt_number": 34
    },
    {
     "cell_type": "code",
     "collapsed": false,
     "input": [],
     "language": "python",
     "metadata": {},
     "outputs": []
    }
   ],
   "metadata": {}
  }
 ]
}