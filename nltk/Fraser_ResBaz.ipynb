{
 "metadata": {
  "signature": "sha256:c8a96f1fe707c296deb88bd3ffe3e3f626fc62dae40c0af9ade9efad44a5b4a7"
 },
 "nbformat": 3,
 "nbformat_minor": 0,
 "worksheets": [
  {
   "cells": [
    {
     "cell_type": "heading",
     "level": 1,
     "metadata": {},
     "source": [
      "Session 3: The Fraser Speech Corpus"
     ]
    },
    {
     "cell_type": "markdown",
     "metadata": {},
     "source": [
      "<br>"
     ]
    },
    {
     "cell_type": "heading",
     "level": 2,
     "metadata": {},
     "source": [
      "Malcolm Fraser and his speeches"
     ]
    },
    {
     "cell_type": "code",
     "collapsed": false,
     "input": [
      "from IPython.display import display\n",
      "from IPython.display import display_pretty, display_html, display_jpeg, display_png, display_json, display_latex, display_svg\n",
      "from IPython.display import Image\n",
      "from IPython.display import HTML"
     ],
     "language": "python",
     "metadata": {},
     "outputs": [],
     "prompt_number": 2
    },
    {
     "cell_type": "code",
     "collapsed": false,
     "input": [
      "Image(url='http://www.unimelb.edu.au/malcolmfraser/photographs/family/105~36fam6p9.jpg')"
     ],
     "language": "python",
     "metadata": {},
     "outputs": [
      {
       "html": [
        "<img src=\"http://www.unimelb.edu.au/malcolmfraser/photographs/family/105~36fam6p9.jpg\"/>"
       ],
       "metadata": {},
       "output_type": "pyout",
       "prompt_number": 3,
       "text": [
        "<IPython.core.display.Image at 0x102691c50>"
       ]
      }
     ],
     "prompt_number": 3
    },
    {
     "cell_type": "markdown",
     "metadata": {},
     "source": [
      "Because our project here is *corpus driven*, we don't necessarily need to know about Malcolm Fraser and his speeches. Even so, it's nice to know a bit about him."
     ]
    },
    {
     "cell_type": "markdown",
     "metadata": {},
     "source": [
      "Malcolm Fraser was a member of Australian parliament between 1955 and 1983, holding the seat of Wannon in western Victoria. He held a number of ministries, including Education and Science, and Defence. \n",
      "He became leader of the Liberal party in March 1975 and Prime Minister of Australia in December 1975, following the dismissal of the Whitlam government in November 1975.\n",
      "He retired from parliament following the defeat of the Liberal party at the 1983 election and in 2009 resigned from the Liberal party after becoming increasingly critical of some of its policies\n",
      "He can now be found on Twitter as @MalcolmFraser12"
     ]
    },
    {
     "cell_type": "code",
     "collapsed": false,
     "input": [
      "HTML('<iframe src=http://en.wikipedia.org/wiki/Malcolm_Fraser width=700 height=350></iframe>')"
     ],
     "language": "python",
     "metadata": {},
     "outputs": [
      {
       "html": [
        "<iframe src=http://en.wikipedia.org/wiki/Malcolm_Fraser width=700 height=350></iframe>"
       ],
       "metadata": {},
       "output_type": "pyout",
       "prompt_number": 4,
       "text": [
        "<IPython.core.display.HTML at 0x102691c10>"
       ]
      }
     ],
     "prompt_number": 4
    },
    {
     "cell_type": "markdown",
     "metadata": {},
     "source": [
      "In 2004, Malcolm Fraser made the University of Melbourne the official custodian of his personal papers. The collection consists of a large number of photographs, speeches, \n",
      "personal papers including Neville Fraser's WWI diaries and materials relating to CARE Australia, which Mr Fraser helped to found in 1987. "
     ]
    },
    {
     "cell_type": "code",
     "collapsed": false,
     "input": [
      "HTML('<iframe src=http://www.unimelb.edu.au/malcolmfraser/ width=700 height=350></iframe>')"
     ],
     "language": "python",
     "metadata": {},
     "outputs": [
      {
       "html": [
        "<iframe src=http://www.unimelb.edu.au/malcolmfraser/ width=700 height=350></iframe>"
       ],
       "metadata": {},
       "output_type": "pyout",
       "prompt_number": 5,
       "text": [
        "<IPython.core.display.HTML at 0x102691b50>"
       ]
      }
     ],
     "prompt_number": 5
    },
    {
     "cell_type": "markdown",
     "metadata": {},
     "source": [
      "Every week, between 1954 until 1983, Malcolm Fraser made a talk to his electorate that was broadcast on Sunday evening on local radio.  \n",
      "The speeches were transcribed years ago. Optical Character Recognition (OCR) was used to digitise the transcripts. This means that the texts are not of perfect quality. \n",
      "Some have been manually corrected, which has removed extraneous characters and mangled words, but even so there are still some quirks in the formatting. "
     ]
    },
    {
     "cell_type": "heading",
     "level": 2,
     "metadata": {},
     "source": [
      "Cleaning the corpus"
     ]
    },
    {
     "cell_type": "markdown",
     "metadata": {},
     "source": [
      "A common part of corpus building is corpus cleaning. Reasons for cleaning include:\n",
      "\n",
      "1. Not break the code with unexpected input\n",
      "2. Ensure that searches match as many examples as possible\n",
      "3. Increasing the accuracy of taggers, stemmers, parsers\n",
      "\n",
      "The level of kind of cleaning depends on your data and the aims of your project. In the case of very clean data (lucky you!), there may be little that needs to be done. With messy data, you may need to go as far as to correct variant spellings (online conversation, very old books).\n",
      "\n",
      "markdowncell>\n",
      "*Discussion*\n",
      "What are the characterisitics of clean and messy data? Discuss with your neighbours. \n",
      "It will be important to bear these characteristics in mind once you start building your own datasets and corpora. "
     ]
    },
    {
     "cell_type": "heading",
     "level": 2,
     "metadata": {},
     "source": [
      "Exploring the corpus"
     ]
    },
    {
     "cell_type": "markdown",
     "metadata": {},
     "source": [
      "First of all, let's load in our text.\n",
      "Via file management, open and inspect one file. What do you see? Are there any potential problems?"
     ]
    },
    {
     "cell_type": "code",
     "collapsed": false,
     "input": [
      "# import tokenizers\n",
      "from nltk import word_tokenize\n",
      "from nltk.text import Text"
     ],
     "language": "python",
     "metadata": {},
     "outputs": [],
     "prompt_number": 6
    },
    {
     "cell_type": "code",
     "collapsed": false,
     "input": [
      "import os"
     ],
     "language": "python",
     "metadata": {},
     "outputs": [],
     "prompt_number": 7
    },
    {
     "cell_type": "code",
     "collapsed": false,
     "input": [
      "#access items in the directory 'UMA_Fraser_Radio_Talks' and view the first 3\n",
      "os.listdir('UMA_Fraser_Radio_Talks')[:3]\n",
      "\n",
      "#<headingcell level=3>\n",
      "# Exploring further: splitting up text"
     ],
     "language": "python",
     "metadata": {},
     "outputs": [
      {
       "metadata": {},
       "output_type": "pyout",
       "prompt_number": 9,
       "text": [
        "['UDS2013680-1-full.txt', 'UDS2013680-10-full.txt', 'UDS2013680-100-full.txt']"
       ]
      }
     ],
     "prompt_number": 9
    },
    {
     "cell_type": "markdown",
     "metadata": {},
     "source": [
      "e've had a look at one file, but the real strength of NLTK is to be able to explore large bodies of text. \n",
      "When we manually inspected the first file, we saw that it contained a metadata section, before the body of the text. \n",
      "We can ask Python to show us the start of the file. For analysing the text, it is useful to split the metadata section off, so that we can interrogate it separately but also so that it won't distort our results when we analyse the text."
     ]
    },
    {
     "cell_type": "code",
     "collapsed": false,
     "input": [
      "#open the first file, read it and then split it into two parts, metadata and body\n",
      "data = open('UMA_Fraser_Radio_Talks/' + os.listdir('UMA_Fraser_Radio_Talks')[0]).read().split(\"<!--end metadata-->\")"
     ],
     "language": "python",
     "metadata": {},
     "outputs": [],
     "prompt_number": 10
    },
    {
     "cell_type": "code",
     "collapsed": false,
     "input": [
      "#view the first part\n",
      "data[0]"
     ],
     "language": "python",
     "metadata": {},
     "outputs": [
      {
       "metadata": {},
       "output_type": "pyout",
       "prompt_number": 11,
       "text": [
        "'<!--start metadata-->\\r\\nTitle: Ministry of Defence, Vietnam\\r\\nDescription: Radio talk\\r\\nDate: 12/11/1969\\r\\nCollection: John Malcolm Fraser, 2007.0023\\r\\nCollection URI: http://gallery.its.unimelb.edu.au/imu/imu.php?request=load&irn=115190&ecatalogue=on&view=details\\r\\nFormat: Uncorrected OCR text\\r\\n'"
       ]
      }
     ],
     "prompt_number": 11
    },
    {
     "cell_type": "code",
     "collapsed": false,
     "input": [
      "# split into lines, add '*' to the start of each line\n",
      "for line in data[0].split('\\r\\n'):\n",
      "    print '*', line"
     ],
     "language": "python",
     "metadata": {},
     "outputs": [
      {
       "output_type": "stream",
       "stream": "stdout",
       "text": [
        "* <!--start metadata-->\n",
        "* Title: Ministry of Defence, Vietnam\n",
        "* Description: Radio talk\n",
        "* Date: 12/11/1969\n",
        "* Collection: John Malcolm Fraser, 2007.0023\n",
        "* Collection URI: http://gallery.its.unimelb.edu.au/imu/imu.php?request=load&irn=115190&ecatalogue=on&view=details\n",
        "* Format: Uncorrected OCR text\n",
        "* \n"
       ]
      }
     ],
     "prompt_number": 12
    },
    {
     "cell_type": "code",
     "collapsed": false,
     "input": [
      "#skip empty lines and any line that starts with '<'\n",
      "for line in data[0].split('\\r\\n'):\n",
      "    if not line:\n",
      "        continue\n",
      "    if line[0] == '<':\n",
      "        continue\n",
      "    print '*', line\n",
      "\n",
      " # <codecell>\n",
      " #split the metadata items on ':' so that we can interrogate each one\n",
      "for line in data[0].split('\\r\\n'):\n",
      "    if not line:\n",
      "        continue\n",
      "    if line[0] == '<':\n",
      "        continue\n",
      "    element = line.split(':')\n",
      "    print '*', element\n",
      "\n",
      "#<codecell>\n",
      "#actually, only split on the first colon\n",
      "for line in data[0].split('\\r\\n'):\n",
      "    if not line:\n",
      "        continue\n",
      "    if line[0] == '<':\n",
      "        continue\n",
      "    element = line.split(':', 1)\n",
      "    print '*', element"
     ],
     "language": "python",
     "metadata": {},
     "outputs": [
      {
       "output_type": "stream",
       "stream": "stdout",
       "text": [
        "* Title: Ministry of Defence, Vietnam\n",
        "* Description: Radio talk\n",
        "* Date: 12/11/1969\n",
        "* Collection: John Malcolm Fraser, 2007.0023\n",
        "* Collection URI: http://gallery.its.unimelb.edu.au/imu/imu.php?request=load&irn=115190&ecatalogue=on&view=details\n",
        "* Format: Uncorrected OCR text\n",
        "* ['Title', ' Ministry of Defence, Vietnam']\n",
        "* ['Description', ' Radio talk']\n",
        "* ['Date', ' 12/11/1969']\n",
        "* ['Collection', ' John Malcolm Fraser, 2007.0023']\n",
        "* ['Collection URI', ' http', '//gallery.its.unimelb.edu.au/imu/imu.php?request=load&irn=115190&ecatalogue=on&view=details']\n",
        "* ['Format', ' Uncorrected OCR text']\n",
        "* ['Title', ' Ministry of Defence, Vietnam']\n",
        "* ['Description', ' Radio talk']\n",
        "* ['Date', ' 12/11/1969']\n",
        "* ['Collection', ' John Malcolm Fraser, 2007.0023']\n",
        "* ['Collection URI', ' http://gallery.its.unimelb.edu.au/imu/imu.php?request=load&irn=115190&ecatalogue=on&view=details']\n",
        "* ['Format', ' Uncorrected OCR text']\n"
       ]
      }
     ],
     "prompt_number": 13
    },
    {
     "cell_type": "markdown",
     "metadata": {},
     "source": [
      "*Challenge* Building a Dictionary\n",
      "Let's build a dictionary called 'metadata', so that we can interrogate the files.\n",
      "To create a dictionary, use braces '{}'. Your first line will look like this:\n",
      "metadata = {}"
     ]
    },
    {
     "cell_type": "code",
     "collapsed": false,
     "input": [
      "metadata = {}\n",
      "for line in data[0].split('\\r\\n'):\n",
      "    if not line:\n",
      "        continue\n",
      "    if line[0] == '<':\n",
      "        continue\n",
      "    element = line.split(':', 1)\n",
      "    metadata[element[0]] = element[-1]\n",
      "print metadata"
     ],
     "language": "python",
     "metadata": {},
     "outputs": [
      {
       "output_type": "stream",
       "stream": "stdout",
       "text": [
        "{'Collection URI': ' http://gallery.its.unimelb.edu.au/imu/imu.php?request=load&irn=115190&ecatalogue=on&view=details', 'Description': ' Radio talk', 'Format': ' Uncorrected OCR text', 'Title': ' Ministry of Defence, Vietnam', 'Collection': ' John Malcolm Fraser, 2007.0023', 'Date': ' 12/11/1969'}\n"
       ]
      }
     ],
     "prompt_number": 14
    },
    {
     "cell_type": "code",
     "collapsed": false,
     "input": [
      "#look up the date\n",
      "print metadata['Date']"
     ],
     "language": "python",
     "metadata": {},
     "outputs": [
      {
       "output_type": "stream",
       "stream": "stdout",
       "text": [
        " 12/11/1969\n"
       ]
      }
     ],
     "prompt_number": 15
    },
    {
     "cell_type": "heading",
     "level": 3,
     "metadata": {},
     "source": [
      "Building functions"
     ]
    },
    {
     "cell_type": "code",
     "collapsed": false,
     "input": [
      "#open the first file, read it and then split it into two parts, metadata and body\n",
      "data = open('UMA_Fraser_Radio_Talks/UDS2013680-100-full.txt')\n",
      "data = data.read().split(\"<!--end metadata-->\")"
     ],
     "language": "python",
     "metadata": {},
     "outputs": [],
     "prompt_number": 16
    },
    {
     "cell_type": "markdown",
     "metadata": {},
     "source": [
      "*Challenge* Define a function that creates a dictionary of the metadata for each file and gets rid of the whitespace at the start of each element\n",
      "Hint - to get rid of the whitespace use the command .strip()"
     ]
    },
    {
     "cell_type": "code",
     "collapsed": false,
     "input": [
      "def parse_metadata(text):\n",
      "    metadata = {}\n",
      "    for line in text.split('\\r\\n'):\n",
      "        if not line:\n",
      "            continue\n",
      "        if line[0] == '<':\n",
      "            continue\n",
      "        element = line.split(':', 1)\n",
      "        metadata[element[0]] = element[-1].strip(' ')\n",
      "    return metadata"
     ],
     "language": "python",
     "metadata": {},
     "outputs": [],
     "prompt_number": 17
    },
    {
     "cell_type": "code",
     "collapsed": false,
     "input": [
      "parse_metadata(data[0])"
     ],
     "language": "python",
     "metadata": {},
     "outputs": [
      {
       "metadata": {},
       "output_type": "pyout",
       "prompt_number": 18,
       "text": [
        "{'Collection': 'John Malcolm Fraser, 2007.0023',\n",
        " 'Collection URI': 'http://gallery.its.unimelb.edu.au/imu/imu.php?request=load&irn=115190&ecatalogue=on&view=details',\n",
        " 'Date': '2/04/1963',\n",
        " 'Description': 'press statement',\n",
        " 'Format': 'Uncorrected OCR text',\n",
        " 'Title': 'Portland wool sales'}"
       ]
      }
     ],
     "prompt_number": 18
    },
    {
     "cell_type": "markdown",
     "metadata": {},
     "source": [
      "Now that we're confident that the function works, let's find out a bit about the corpus.\n",
      "As a start, it would be useful to know which years the texts are from. Are they evenly distributed over time? A graph will tell us!"
     ]
    },
    {
     "cell_type": "code",
     "collapsed": false,
     "input": [
      "#import conditional frequency distribution\n",
      "from nltk.probability import ConditionalFreqDist\n",
      "import matplotlib\n",
      "% matplotlib inline\n",
      "cfdist = ConditionalFreqDist()\n",
      "for filename in os.listdir('UMA_Fraser_Radio_Talks'):\n",
      "    text = open('UMA_Fraser_Radio_Talks/' + filename).read()\n",
      "    #split text of file on 'end metadata'\n",
      "    text = text.split(\"<!--end metadata-->\")\n",
      "    #parse metadata using previously defined function \"parse_metadata\"\n",
      "    metadata = parse_metadata(text[0])\n",
      "    #skip all speeches for which there is no exact date\n",
      "    if metadata['Date'][0] == 'c':\n",
      "        continue\n",
      "    #build a frequency distribution graph by year, that is, take the final bit of the 'Date' string after '/'\n",
      "    cfdist['count'][metadata['Date'].split('/')[-1]] += 1\n",
      "cfdist.plot()"
     ],
     "language": "python",
     "metadata": {},
     "outputs": [
      {
       "metadata": {},
       "output_type": "display_data",
       "png": "[encoded data removed]",
       "text": [
        "<matplotlib.figure.Figure at 0x108456210>"
       ]
      }
     ],
     "prompt_number": 19
    },
    {
     "cell_type": "code",
     "collapsed": false,
     "input": [
      "# Now let's build another graph, but this time by the 'Description' field\n",
      "cfdist2 = ConditionalFreqDist()\n",
      "for filename in os.listdir('UMA_Fraser_Radio_Talks'):\n",
      "    text = open('UMA_Fraser_Radio_Talks/' + filename).read()\n",
      "    text = text.split(\"<!--end metadata-->\")\n",
      "    metadata = parse_metadata(text[0])\n",
      "    if metadata['Date'][0] == 'c':\n",
      "        continue\n",
      "    cfdist2['count'][metadata['Description']] += 1\n",
      "cfdist2.plot()"
     ],
     "language": "python",
     "metadata": {},
     "outputs": [
      {
       "metadata": {},
       "output_type": "display_data",
       "png": "[encoded data removed]",
       "text": [
        "<matplotlib.figure.Figure at 0x108513590>"
       ]
      }
     ],
     "prompt_number": 20
    },
    {
     "cell_type": "markdown",
     "metadata": {},
     "source": [
      "*Discussion*\n",
      "We've got messy data! What's the lesson here?\n",
      "\n",
      "markdowncell>\n",
      "Bonus chellenge: Build a frequency distribution graph that includes speeches without an exact date.\n",
      "Hint: you'll need to tell Python to ignore the 'c' and just take the digits"
     ]
    },
    {
     "cell_type": "code",
     "collapsed": false,
     "input": [
      "cfdist3 = ConditionalFreqDist()\n",
      "for filename in os.listdir('UMA_Fraser_Radio_Talks'):\n",
      "    text = open('UMA_Fraser_Radio_Talks/' + filename).read()\n",
      "    text = text.split(\"<!--end metadata-->\")\n",
      "    metadata = parse_metadata(text[0])\n",
      "    date = metadata['Date']\n",
      "    if date[0] == 'c':\n",
      "        year = date[1:]\n",
      "    elif date[0] != 'c':\n",
      "        year = date.split('/')[-1]\n",
      "    cfdist3['count'][year] += 1\n",
      "cfdist3.plot()"
     ],
     "language": "python",
     "metadata": {},
     "outputs": [
      {
       "metadata": {},
       "output_type": "display_data",
       "png": "[encoded data removed]",
       "text": [
        "<matplotlib.figure.Figure at 0x1089b54d0>"
       ]
      }
     ],
     "prompt_number": 21
    },
    {
     "cell_type": "code",
     "collapsed": false,
     "input": [
      "import sys\n",
      "!wget https://github.com/sgrau/spindle-code/archive/master.zip # download spindle\n",
      "!unzip master.zip # unzip it\n",
      "!rm master.zip # remove the zip file\n",
      "sys.path.insert(0, 'spindle-code-master/keywords') # put the keyworder directory in python's path\n",
      "from keywords import keywords_and_ngrams # import keywords function\n",
      "keywords_and_ngrams(raw, nKeywords=0)"
     ],
     "language": "python",
     "metadata": {},
     "outputs": [
      {
       "ename": "SyntaxError",
       "evalue": "invalid syntax (<ipython-input-80-97231ca6a422>, line 7)",
       "output_type": "pyerr",
       "traceback": [
        "\u001b[0;36m  File \u001b[0;32m\"<ipython-input-80-97231ca6a422>\"\u001b[0;36m, line \u001b[0;32m7\u001b[0m\n\u001b[0;31m    keywords_and_ngrams(raw, nKeywords=0)y\u001b[0m\n\u001b[0m                                         ^\u001b[0m\n\u001b[0;31mSyntaxError\u001b[0m\u001b[0;31m:\u001b[0m invalid syntax\n"
       ]
      }
     ],
     "prompt_number": 80
    },
    {
     "cell_type": "code",
     "collapsed": false,
     "input": [
      "corpus_path = 'corpora/UMA_Fraser_Radio_Talks'\n",
      "# here, we compress a whole lot of operations into a single line of code:\n",
      "data = open(os.path.join(corpus_path, os.listdir(corpus_path)[0])).read().split(\"<!--end metadata-->\")"
     ],
     "language": "python",
     "metadata": {},
     "outputs": [],
     "prompt_number": 34
    },
    {
     "cell_type": "code",
     "collapsed": false,
     "input": [
      "data[0]"
     ],
     "language": "python",
     "metadata": {},
     "outputs": [
      {
       "metadata": {},
       "output_type": "pyout",
       "prompt_number": 35,
       "text": [
        "'<!--start metadata-->\\r\\nTitle: Ministry of Defence, Vietnam\\r\\nDescription: Radio talk\\r\\nDate: 12/11/1969\\r\\nCollection: John Malcolm Fraser, 2007.0023\\r\\nCollection URI: http://gallery.its.unimelb.edu.au/imu/imu.php?request=load&irn=115190&ecatalogue=on&view=details\\r\\nFormat: Uncorrected OCR text\\r\\n'"
       ]
      }
     ],
     "prompt_number": 35
    },
    {
     "cell_type": "code",
     "collapsed": false,
     "input": [
      "def ngrams(text, num_of_tokens):\n",
      "    \"\"\"get n-grams of num_of_tokens length\"\"\"\n",
      "    from keywords import keywords_and_ngrams\n",
      "    output_list = []\n",
      "    ngrams = keywords_and_ngrams(text, nKeywords=0, thresholdBigrams=2)\n",
      "    print ngrams\n",
      "    for ngram in ngrams[1]:\n",
      "        if len(ngram[0]) == num_of_tokens:\n",
      "            output_list.append(ngram[0])\n",
      "    return output_list"
     ],
     "language": "python",
     "metadata": {},
     "outputs": [],
     "prompt_number": 71
    },
    {
     "cell_type": "code",
     "collapsed": false,
     "input": [
      "f = open('corpora/oz_politics/ozpol.txt')\n",
      "raw = f.read()\n",
      "len(raw)"
     ],
     "language": "python",
     "metadata": {},
     "outputs": [
      {
       "metadata": {},
       "output_type": "pyout",
       "prompt_number": 72,
       "text": [
        "142800"
       ]
      }
     ],
     "prompt_number": 72
    },
    {
     "cell_type": "code",
     "collapsed": false,
     "input": [
      "from nltk.util import ngrams\n",
      "sentence = 'give a man a fish and you feed him for a day; teach a man to fish and you feed him for a lifetime, and you feed him'\n",
      "n = 10\n",
      "tengrams = ngrams(sentence.split(), n)\n",
      "for gram in tengrams:\n",
      "  print gram"
     ],
     "language": "python",
     "metadata": {},
     "outputs": [
      {
       "output_type": "stream",
       "stream": "stdout",
       "text": [
        "('give', 'a', 'man', 'a', 'fish', 'and', 'you', 'feed', 'him', 'for')\n",
        "('a', 'man', 'a', 'fish', 'and', 'you', 'feed', 'him', 'for', 'a')\n",
        "('man', 'a', 'fish', 'and', 'you', 'feed', 'him', 'for', 'a', 'day;')\n",
        "('a', 'fish', 'and', 'you', 'feed', 'him', 'for', 'a', 'day;', 'teach')\n",
        "('fish', 'and', 'you', 'feed', 'him', 'for', 'a', 'day;', 'teach', 'a')\n",
        "('and', 'you', 'feed', 'him', 'for', 'a', 'day;', 'teach', 'a', 'man')\n",
        "('you', 'feed', 'him', 'for', 'a', 'day;', 'teach', 'a', 'man', 'to')\n",
        "('feed', 'him', 'for', 'a', 'day;', 'teach', 'a', 'man', 'to', 'fish')\n",
        "('him', 'for', 'a', 'day;', 'teach', 'a', 'man', 'to', 'fish', 'and')\n",
        "('for', 'a', 'day;', 'teach', 'a', 'man', 'to', 'fish', 'and', 'you')\n",
        "('a', 'day;', 'teach', 'a', 'man', 'to', 'fish', 'and', 'you', 'feed')\n",
        "('day;', 'teach', 'a', 'man', 'to', 'fish', 'and', 'you', 'feed', 'him')\n",
        "('teach', 'a', 'man', 'to', 'fish', 'and', 'you', 'feed', 'him', 'for')\n",
        "('a', 'man', 'to', 'fish', 'and', 'you', 'feed', 'him', 'for', 'a')\n",
        "('man', 'to', 'fish', 'and', 'you', 'feed', 'him', 'for', 'a', 'lifetime,')\n",
        "('to', 'fish', 'and', 'you', 'feed', 'him', 'for', 'a', 'lifetime,', 'and')\n",
        "('fish', 'and', 'you', 'feed', 'him', 'for', 'a', 'lifetime,', 'and', 'you')\n",
        "('and', 'you', 'feed', 'him', 'for', 'a', 'lifetime,', 'and', 'you', 'feed')\n",
        "('you', 'feed', 'him', 'for', 'a', 'lifetime,', 'and', 'you', 'feed', 'him')\n"
       ]
      }
     ],
     "prompt_number": 113
    },
    {
     "cell_type": "code",
     "collapsed": false,
     "input": [
      "def ngrammer(text, gramsize):\n",
      "    \"\"\"Get any repeating ngram containing gramsize tokens\"\"\"\n",
      "    from collections import defaultdict\n",
      "    def list_duplicates(seq):\n",
      "        tally = defaultdict(list)\n",
      "        for i,item in enumerate(seq):\n",
      "            tally[item].append(i)\n",
      "        return ((len(locs),key) for key,locs in tally.items() \n",
      "               if len(locs) > 1)\n",
      "    \n",
      "    from nltk.util import ngrams\n",
      "    raw_grams = ngrams(sentence.split(), gramsize)\n",
      "    dupes = list_duplicates(raw_grams)\n",
      "    return sorted(dupes, reverse = True)"
     ],
     "language": "python",
     "metadata": {},
     "outputs": [],
     "prompt_number": 153
    },
    {
     "cell_type": "code",
     "collapsed": false,
     "input": [
      "ngrammer(sentence, 3)"
     ],
     "language": "python",
     "metadata": {},
     "outputs": [
      {
       "metadata": {},
       "output_type": "pyout",
       "prompt_number": 154,
       "text": [
        "[(3, ('you', 'feed', 'him')),\n",
        " (3, ('and', 'you', 'feed')),\n",
        " (2, ('him', 'for', 'a')),\n",
        " (2, ('fish', 'and', 'you')),\n",
        " (2, ('feed', 'him', 'for'))]"
       ]
      }
     ],
     "prompt_number": 154
    },
    {
     "cell_type": "code",
     "collapsed": false,
     "input": [
      "raw = 'hey there friend'\n",
      "print raw[:3]"
     ],
     "language": "python",
     "metadata": {},
     "outputs": []
    },
    {
     "cell_type": "heading",
     "level": 1,
     "metadata": {},
     "source": [
      "Additional resources"
     ]
    }
   ],
   "metadata": {}
  }
 ]
}